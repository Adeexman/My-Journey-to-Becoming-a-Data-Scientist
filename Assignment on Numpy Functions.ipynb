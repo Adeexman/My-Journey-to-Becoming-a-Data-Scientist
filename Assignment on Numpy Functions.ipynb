{
 "cells": [
  {
   "cell_type": "markdown",
   "id": "7c0f3cd7",
   "metadata": {},
   "source": [
    "### In this self learning session, I practiced how to work with numpy functions. I picked 5 different functions to master. They include: \n",
    "### Reshaping an Array, Arranging an Array, Deleting Function, Insert Function, Appending Function"
   ]
  },
  {
   "cell_type": "markdown",
   "id": "52b32437",
   "metadata": {},
   "source": [
    "### Let's get started"
   ]
  },
  {
   "cell_type": "code",
   "execution_count": 1,
   "id": "7b5b11c1",
   "metadata": {},
   "outputs": [],
   "source": [
    "import numpy as np"
   ]
  },
  {
   "cell_type": "markdown",
   "id": "ad5b7d4c",
   "metadata": {},
   "source": [
    "### 1) Reshaping an array"
   ]
  },
  {
   "cell_type": "code",
   "execution_count": 2,
   "id": "656814ff",
   "metadata": {},
   "outputs": [],
   "source": [
    "New= np.array([[[9, 8, 7],\n",
    "               [1, 2, 3],\n",
    "               [7, 6, 5]],\n",
    "               \n",
    "              [[1, 3, 7],\n",
    "              [8, 4, 6],\n",
    "              [9, 0, 2]],\n",
    "              \n",
    "              [[2, 7, 3],\n",
    "              [5, 1, 8],\n",
    "              [9, 0, 6]]])"
   ]
  },
  {
   "cell_type": "code",
   "execution_count": 3,
   "id": "34d15eb9",
   "metadata": {},
   "outputs": [
    {
     "data": {
      "text/plain": [
       "array([[[9, 8, 7]],\n",
       "\n",
       "       [[1, 2, 3]],\n",
       "\n",
       "       [[7, 6, 5]],\n",
       "\n",
       "       [[1, 3, 7]],\n",
       "\n",
       "       [[8, 4, 6]],\n",
       "\n",
       "       [[9, 0, 2]],\n",
       "\n",
       "       [[2, 7, 3]],\n",
       "\n",
       "       [[5, 1, 8]],\n",
       "\n",
       "       [[9, 0, 6]]])"
      ]
     },
     "execution_count": 3,
     "metadata": {},
     "output_type": "execute_result"
    }
   ],
   "source": [
    "np.reshape(New, (9,1,3))"
   ]
  },
  {
   "cell_type": "code",
   "execution_count": 4,
   "id": "b79a030e",
   "metadata": {},
   "outputs": [
    {
     "data": {
      "text/plain": [
       "array([[[9, 8, 7, 1, 2, 3, 7, 6, 5],\n",
       "        [1, 3, 7, 8, 4, 6, 9, 0, 2],\n",
       "        [2, 7, 3, 5, 1, 8, 9, 0, 6]]])"
      ]
     },
     "execution_count": 4,
     "metadata": {},
     "output_type": "execute_result"
    }
   ],
   "source": [
    "np.reshape(New, (1,3,9))"
   ]
  },
  {
   "cell_type": "code",
   "execution_count": 5,
   "id": "11cd372d",
   "metadata": {},
   "outputs": [
    {
     "data": {
      "text/plain": [
       "array([[[9, 8, 7],\n",
       "        [1, 2, 3],\n",
       "        [7, 6, 5],\n",
       "        [1, 3, 7],\n",
       "        [8, 4, 6],\n",
       "        [9, 0, 2],\n",
       "        [2, 7, 3],\n",
       "        [5, 1, 8],\n",
       "        [9, 0, 6]]])"
      ]
     },
     "execution_count": 5,
     "metadata": {},
     "output_type": "execute_result"
    }
   ],
   "source": [
    "np.reshape(New, (1, 9, 3))"
   ]
  },
  {
   "cell_type": "code",
   "execution_count": 6,
   "id": "b680f5c2",
   "metadata": {},
   "outputs": [
    {
     "data": {
      "text/plain": [
       "array([[9, 8, 7, 1, 2, 3, 7, 6, 5, 1, 3, 7, 8, 4, 6, 9, 0, 2, 2, 7, 3, 5,\n",
       "        1, 8, 9, 0, 6]])"
      ]
     },
     "execution_count": 6,
     "metadata": {},
     "output_type": "execute_result"
    }
   ],
   "source": [
    "np.reshape(New, (1,27))"
   ]
  },
  {
   "cell_type": "code",
   "execution_count": 7,
   "id": "8e4ca4c1",
   "metadata": {},
   "outputs": [
    {
     "data": {
      "text/plain": [
       "array([[[9],\n",
       "        [8],\n",
       "        [7],\n",
       "        [1],\n",
       "        [2],\n",
       "        [3],\n",
       "        [7],\n",
       "        [6],\n",
       "        [5]],\n",
       "\n",
       "       [[1],\n",
       "        [3],\n",
       "        [7],\n",
       "        [8],\n",
       "        [4],\n",
       "        [6],\n",
       "        [9],\n",
       "        [0],\n",
       "        [2]],\n",
       "\n",
       "       [[2],\n",
       "        [7],\n",
       "        [3],\n",
       "        [5],\n",
       "        [1],\n",
       "        [8],\n",
       "        [9],\n",
       "        [0],\n",
       "        [6]]])"
      ]
     },
     "execution_count": 7,
     "metadata": {},
     "output_type": "execute_result"
    }
   ],
   "source": [
    "np.reshape(New, (3, 9, 1))"
   ]
  },
  {
   "cell_type": "code",
   "execution_count": 8,
   "id": "161dd559",
   "metadata": {},
   "outputs": [],
   "source": [
    "Nums = np.array([[3, 2, 4],\n",
    "               [62, 25, 52],\n",
    "                [12, 35, 97],\n",
    "               [54, 26, 85]])"
   ]
  },
  {
   "cell_type": "code",
   "execution_count": 9,
   "id": "f96abf6c",
   "metadata": {},
   "outputs": [
    {
     "data": {
      "text/plain": [
       "array([[ 3,  2,  4, 62],\n",
       "       [25, 52, 12, 35],\n",
       "       [97, 54, 26, 85]])"
      ]
     },
     "execution_count": 9,
     "metadata": {},
     "output_type": "execute_result"
    }
   ],
   "source": [
    "#The original array is a 4 by 3 matrix but we reshaped it into a 3 by 4 matrix\n",
    "np.reshape(Nums, [3, 4])"
   ]
  },
  {
   "cell_type": "code",
   "execution_count": 10,
   "id": "d98a11b2",
   "metadata": {},
   "outputs": [
    {
     "data": {
      "text/plain": [
       "array([[ 3,  2],\n",
       "       [ 4, 62],\n",
       "       [25, 52],\n",
       "       [12, 35],\n",
       "       [97, 54],\n",
       "       [26, 85]])"
      ]
     },
     "execution_count": 10,
     "metadata": {},
     "output_type": "execute_result"
    }
   ],
   "source": [
    "np.reshape(Nums, [6, 2])"
   ]
  },
  {
   "cell_type": "code",
   "execution_count": 11,
   "id": "e1696b3f",
   "metadata": {},
   "outputs": [
    {
     "data": {
      "text/plain": [
       "array([[[ 3,  2,  4, 62]],\n",
       "\n",
       "       [[25, 52, 12, 35]],\n",
       "\n",
       "       [[97, 54, 26, 85]]])"
      ]
     },
     "execution_count": 11,
     "metadata": {},
     "output_type": "execute_result"
    }
   ],
   "source": [
    "#We can also create subsets which gives us a 3 dimensional array\n",
    "np.reshape(Nums, [3,1,4])"
   ]
  },
  {
   "cell_type": "code",
   "execution_count": 12,
   "id": "447d2d1c",
   "metadata": {},
   "outputs": [
    {
     "ename": "ValueError",
     "evalue": "cannot reshape array of size 1 into shape (2,2)",
     "output_type": "error",
     "traceback": [
      "\u001b[1;31m---------------------------------------------------------------------------\u001b[0m",
      "\u001b[1;31mValueError\u001b[0m                                Traceback (most recent call last)",
      "Input \u001b[1;32mIn [12]\u001b[0m, in \u001b[0;36m<cell line: 2>\u001b[1;34m()\u001b[0m\n\u001b[0;32m      1\u001b[0m \u001b[38;5;66;03m#This didnt work because 10 is fixed number but the 10 needed to be defined/arranged in a list before using the command\u001b[39;00m\n\u001b[1;32m----> 2\u001b[0m \u001b[43mnp\u001b[49m\u001b[38;5;241;43m.\u001b[39;49m\u001b[43mreshape\u001b[49m\u001b[43m(\u001b[49m\u001b[38;5;241;43m10\u001b[39;49m\u001b[43m,\u001b[49m\u001b[43m \u001b[49m\u001b[43m[\u001b[49m\u001b[38;5;241;43m2\u001b[39;49m\u001b[43m,\u001b[49m\u001b[38;5;241;43m2\u001b[39;49m\u001b[43m]\u001b[49m\u001b[43m)\u001b[49m\n",
      "File \u001b[1;32m<__array_function__ internals>:5\u001b[0m, in \u001b[0;36mreshape\u001b[1;34m(*args, **kwargs)\u001b[0m\n",
      "File \u001b[1;32m~\\anaconda3\\lib\\site-packages\\numpy\\core\\fromnumeric.py:298\u001b[0m, in \u001b[0;36mreshape\u001b[1;34m(a, newshape, order)\u001b[0m\n\u001b[0;32m    198\u001b[0m \u001b[38;5;129m@array_function_dispatch\u001b[39m(_reshape_dispatcher)\n\u001b[0;32m    199\u001b[0m \u001b[38;5;28;01mdef\u001b[39;00m \u001b[38;5;21mreshape\u001b[39m(a, newshape, order\u001b[38;5;241m=\u001b[39m\u001b[38;5;124m'\u001b[39m\u001b[38;5;124mC\u001b[39m\u001b[38;5;124m'\u001b[39m):\n\u001b[0;32m    200\u001b[0m     \u001b[38;5;124;03m\"\"\"\u001b[39;00m\n\u001b[0;32m    201\u001b[0m \u001b[38;5;124;03m    Gives a new shape to an array without changing its data.\u001b[39;00m\n\u001b[0;32m    202\u001b[0m \n\u001b[1;32m   (...)\u001b[0m\n\u001b[0;32m    296\u001b[0m \u001b[38;5;124;03m           [5, 6]])\u001b[39;00m\n\u001b[0;32m    297\u001b[0m \u001b[38;5;124;03m    \"\"\"\u001b[39;00m\n\u001b[1;32m--> 298\u001b[0m     \u001b[38;5;28;01mreturn\u001b[39;00m \u001b[43m_wrapfunc\u001b[49m\u001b[43m(\u001b[49m\u001b[43ma\u001b[49m\u001b[43m,\u001b[49m\u001b[43m \u001b[49m\u001b[38;5;124;43m'\u001b[39;49m\u001b[38;5;124;43mreshape\u001b[39;49m\u001b[38;5;124;43m'\u001b[39;49m\u001b[43m,\u001b[49m\u001b[43m \u001b[49m\u001b[43mnewshape\u001b[49m\u001b[43m,\u001b[49m\u001b[43m \u001b[49m\u001b[43morder\u001b[49m\u001b[38;5;241;43m=\u001b[39;49m\u001b[43morder\u001b[49m\u001b[43m)\u001b[49m\n",
      "File \u001b[1;32m~\\anaconda3\\lib\\site-packages\\numpy\\core\\fromnumeric.py:54\u001b[0m, in \u001b[0;36m_wrapfunc\u001b[1;34m(obj, method, *args, **kwds)\u001b[0m\n\u001b[0;32m     52\u001b[0m bound \u001b[38;5;241m=\u001b[39m \u001b[38;5;28mgetattr\u001b[39m(obj, method, \u001b[38;5;28;01mNone\u001b[39;00m)\n\u001b[0;32m     53\u001b[0m \u001b[38;5;28;01mif\u001b[39;00m bound \u001b[38;5;129;01mis\u001b[39;00m \u001b[38;5;28;01mNone\u001b[39;00m:\n\u001b[1;32m---> 54\u001b[0m     \u001b[38;5;28;01mreturn\u001b[39;00m _wrapit(obj, method, \u001b[38;5;241m*\u001b[39margs, \u001b[38;5;241m*\u001b[39m\u001b[38;5;241m*\u001b[39mkwds)\n\u001b[0;32m     56\u001b[0m \u001b[38;5;28;01mtry\u001b[39;00m:\n\u001b[0;32m     57\u001b[0m     \u001b[38;5;28;01mreturn\u001b[39;00m bound(\u001b[38;5;241m*\u001b[39margs, \u001b[38;5;241m*\u001b[39m\u001b[38;5;241m*\u001b[39mkwds)\n",
      "File \u001b[1;32m~\\anaconda3\\lib\\site-packages\\numpy\\core\\fromnumeric.py:43\u001b[0m, in \u001b[0;36m_wrapit\u001b[1;34m(obj, method, *args, **kwds)\u001b[0m\n\u001b[0;32m     41\u001b[0m \u001b[38;5;28;01mexcept\u001b[39;00m \u001b[38;5;167;01mAttributeError\u001b[39;00m:\n\u001b[0;32m     42\u001b[0m     wrap \u001b[38;5;241m=\u001b[39m \u001b[38;5;28;01mNone\u001b[39;00m\n\u001b[1;32m---> 43\u001b[0m result \u001b[38;5;241m=\u001b[39m \u001b[38;5;28mgetattr\u001b[39m(asarray(obj), method)(\u001b[38;5;241m*\u001b[39margs, \u001b[38;5;241m*\u001b[39m\u001b[38;5;241m*\u001b[39mkwds)\n\u001b[0;32m     44\u001b[0m \u001b[38;5;28;01mif\u001b[39;00m wrap:\n\u001b[0;32m     45\u001b[0m     \u001b[38;5;28;01mif\u001b[39;00m \u001b[38;5;129;01mnot\u001b[39;00m \u001b[38;5;28misinstance\u001b[39m(result, mu\u001b[38;5;241m.\u001b[39mndarray):\n",
      "\u001b[1;31mValueError\u001b[0m: cannot reshape array of size 1 into shape (2,2)"
     ]
    }
   ],
   "source": [
    "#This didnt work because 10 is fixed number but the 10 needed to be defined/arranged in a list before using the command\n",
    "np.reshape(10, [2,2])"
   ]
  },
  {
   "cell_type": "markdown",
   "id": "ca32f91f",
   "metadata": {},
   "source": [
    "### 2). Arranging and Reshaping an Array"
   ]
  },
  {
   "cell_type": "code",
   "execution_count": 13,
   "id": "2fb2124f",
   "metadata": {},
   "outputs": [
    {
     "data": {
      "text/plain": [
       "array([0, 1, 2, 3, 4, 5, 6, 7, 8, 9])"
      ]
     },
     "execution_count": 13,
     "metadata": {},
     "output_type": "execute_result"
    }
   ],
   "source": [
    "a = 10\n",
    "np.arange(a)"
   ]
  },
  {
   "cell_type": "code",
   "execution_count": 14,
   "id": "3372fa33",
   "metadata": {},
   "outputs": [
    {
     "data": {
      "text/plain": [
       "array([[0, 1, 2, 3, 4],\n",
       "       [5, 6, 7, 8, 9]])"
      ]
     },
     "execution_count": 14,
     "metadata": {},
     "output_type": "execute_result"
    }
   ],
   "source": [
    "#Let's now reshape the array into our desired matrix\n",
    "np.arange(a).reshape([2,5])"
   ]
  },
  {
   "cell_type": "code",
   "execution_count": 15,
   "id": "e8bda78d",
   "metadata": {},
   "outputs": [
    {
     "data": {
      "text/plain": [
       "array([[ 0,  1,  2,  3],\n",
       "       [ 4,  5,  6,  7],\n",
       "       [ 8,  9, 10, 11],\n",
       "       [12, 13, 14, 15],\n",
       "       [16, 17, 18, 19]])"
      ]
     },
     "execution_count": 15,
     "metadata": {},
     "output_type": "execute_result"
    }
   ],
   "source": [
    "b= np.arange(20)\n",
    "np.reshape(b, [5,4])"
   ]
  },
  {
   "cell_type": "code",
   "execution_count": 16,
   "id": "4d926563",
   "metadata": {},
   "outputs": [
    {
     "data": {
      "text/plain": [
       "array([[0, 1],\n",
       "       [2, 3],\n",
       "       [4, 5],\n",
       "       [6, 7],\n",
       "       [8, 9]])"
      ]
     },
     "execution_count": 16,
     "metadata": {},
     "output_type": "execute_result"
    }
   ],
   "source": [
    "np.arange(10).reshape(5,2)"
   ]
  },
  {
   "cell_type": "code",
   "execution_count": 17,
   "id": "4cef2480",
   "metadata": {},
   "outputs": [
    {
     "ename": "ValueError",
     "evalue": "cannot reshape array of size 20 into shape (2,4)",
     "output_type": "error",
     "traceback": [
      "\u001b[1;31m---------------------------------------------------------------------------\u001b[0m",
      "\u001b[1;31mValueError\u001b[0m                                Traceback (most recent call last)",
      "Input \u001b[1;32mIn [17]\u001b[0m, in \u001b[0;36m<cell line: 2>\u001b[1;34m()\u001b[0m\n\u001b[0;32m      1\u001b[0m \u001b[38;5;66;03m#This did not work because the shape (2,4) cannot contain 20 numbers\u001b[39;00m\n\u001b[1;32m----> 2\u001b[0m \u001b[43mnp\u001b[49m\u001b[38;5;241;43m.\u001b[39;49m\u001b[43marange\u001b[49m\u001b[43m(\u001b[49m\u001b[38;5;241;43m20\u001b[39;49m\u001b[43m)\u001b[49m\u001b[38;5;241;43m.\u001b[39;49m\u001b[43mreshape\u001b[49m\u001b[43m(\u001b[49m\u001b[38;5;241;43m2\u001b[39;49m\u001b[43m,\u001b[49m\u001b[38;5;241;43m4\u001b[39;49m\u001b[43m)\u001b[49m\n",
      "\u001b[1;31mValueError\u001b[0m: cannot reshape array of size 20 into shape (2,4)"
     ]
    }
   ],
   "source": [
    "#This did not work because the shape (2,4) cannot contain 20 numbers\n",
    "np.arange(20).reshape(2,4)"
   ]
  },
  {
   "cell_type": "code",
   "execution_count": 18,
   "id": "35328f8b",
   "metadata": {},
   "outputs": [
    {
     "data": {
      "text/plain": [
       "array([[ 0,  1,  2,  3,  4],\n",
       "       [ 5,  6,  7,  8,  9],\n",
       "       [10, 11, 12, 13, 14],\n",
       "       [15, 16, 17, 18, 19],\n",
       "       [20, 21, 22, 23, 24],\n",
       "       [25, 26, 27, 28, 29],\n",
       "       [30, 31, 32, 33, 34]])"
      ]
     },
     "execution_count": 18,
     "metadata": {},
     "output_type": "execute_result"
    }
   ],
   "source": [
    "np.arange(35).reshape(5, 7).reshape(7, 5)"
   ]
  },
  {
   "cell_type": "code",
   "execution_count": 19,
   "id": "cb080282",
   "metadata": {},
   "outputs": [
    {
     "data": {
      "text/plain": [
       "array([ 1,  4,  7, 10, 13, 16, 19, 22, 25])"
      ]
     },
     "execution_count": 19,
     "metadata": {},
     "output_type": "execute_result"
    }
   ],
   "source": [
    "#This arranges the numbers from 1 to 27 with increment of 3 \n",
    "np.arange(1, 27, 3)"
   ]
  },
  {
   "cell_type": "code",
   "execution_count": 20,
   "id": "0fbd36f7",
   "metadata": {},
   "outputs": [
    {
     "data": {
      "text/plain": [
       "array([[ 1,  4,  7],\n",
       "       [10, 13, 16],\n",
       "       [19, 22, 25]])"
      ]
     },
     "execution_count": 20,
     "metadata": {},
     "output_type": "execute_result"
    }
   ],
   "source": [
    "np.arange(1, 27, 3).reshape([3,3])"
   ]
  },
  {
   "cell_type": "code",
   "execution_count": 21,
   "id": "0c03165c",
   "metadata": {},
   "outputs": [
    {
     "data": {
      "text/plain": [
       "array([[[ 1,  4,  7],\n",
       "        [10, 13, 16],\n",
       "        [19, 22, 25]],\n",
       "\n",
       "       [[28, 31, 34],\n",
       "        [37, 40, 43],\n",
       "        [46, 49, 52]],\n",
       "\n",
       "       [[55, 58, 61],\n",
       "        [64, 67, 70],\n",
       "        [73, 76, 79]]])"
      ]
     },
     "execution_count": 21,
     "metadata": {},
     "output_type": "execute_result"
    }
   ],
   "source": [
    "#This arranges the numbers from 1 to 81 with increment of 3 and reshapes it into a 3D array \n",
    "np.arange(1, 81, 3).reshape([3, 3, 3])"
   ]
  },
  {
   "cell_type": "code",
   "execution_count": 22,
   "id": "2943cf93",
   "metadata": {},
   "outputs": [
    {
     "data": {
      "text/plain": [
       "array([[ 0,  1,  2,  3,  4,  5,  6,  7,  8,  9],\n",
       "       [10, 11, 12, 13, 14, 15, 16, 17, 18, 19],\n",
       "       [20, 21, 22, 23, 24, 25, 26, 27, 28, 29]])"
      ]
     },
     "execution_count": 22,
     "metadata": {},
     "output_type": "execute_result"
    }
   ],
   "source": [
    "np.arange(30).reshape(3, 10)"
   ]
  },
  {
   "cell_type": "code",
   "execution_count": 23,
   "id": "3a6084ad",
   "metadata": {},
   "outputs": [],
   "source": [
    "b = np.arange(2, 60, 3)"
   ]
  },
  {
   "cell_type": "code",
   "execution_count": 24,
   "id": "04153eaf",
   "metadata": {},
   "outputs": [
    {
     "data": {
      "text/plain": [
       "(20,)"
      ]
     },
     "execution_count": 24,
     "metadata": {},
     "output_type": "execute_result"
    }
   ],
   "source": [
    "b.shape"
   ]
  },
  {
   "cell_type": "code",
   "execution_count": 25,
   "id": "05282428",
   "metadata": {},
   "outputs": [
    {
     "data": {
      "text/plain": [
       "array([[ 2,  5,  8, 11, 14],\n",
       "       [17, 20, 23, 26, 29],\n",
       "       [32, 35, 38, 41, 44],\n",
       "       [47, 50, 53, 56, 59]])"
      ]
     },
     "execution_count": 25,
     "metadata": {},
     "output_type": "execute_result"
    }
   ],
   "source": [
    "np.reshape(b, [4,5])"
   ]
  },
  {
   "cell_type": "code",
   "execution_count": 26,
   "id": "98f989bb",
   "metadata": {},
   "outputs": [
    {
     "data": {
      "text/plain": [
       "array([[ 2,  7, 12],\n",
       "       [17, 22, 27]])"
      ]
     },
     "execution_count": 26,
     "metadata": {},
     "output_type": "execute_result"
    }
   ],
   "source": [
    "np.arange(2, 30, 5).reshape(2,3)"
   ]
  },
  {
   "cell_type": "code",
   "execution_count": 27,
   "id": "80a4396f",
   "metadata": {},
   "outputs": [],
   "source": [
    "Array=np.array([[[23, 73, 63],\n",
    "              [36, 54, 85],\n",
    "              [53, 73, 26]],\n",
    "              \n",
    "              [[24, 94, 84],\n",
    "              [12, 74, 98],\n",
    "              [85, 67, 90]],\n",
    "              \n",
    "              [[21, 87, 53],\n",
    "              [11, 72, 10],\n",
    "              [80, 77, 34]]])"
   ]
  },
  {
   "cell_type": "code",
   "execution_count": 28,
   "id": "46207daa",
   "metadata": {},
   "outputs": [
    {
     "data": {
      "text/plain": [
       "67"
      ]
     },
     "execution_count": 28,
     "metadata": {},
     "output_type": "execute_result"
    }
   ],
   "source": [
    "Array[1, 2, 1]"
   ]
  },
  {
   "cell_type": "code",
   "execution_count": 29,
   "id": "1bcc5eec",
   "metadata": {},
   "outputs": [
    {
     "data": {
      "text/plain": [
       "array([[23, 73, 63, 36, 54, 85, 53, 73, 26],\n",
       "       [24, 94, 84, 12, 74, 98, 85, 67, 90],\n",
       "       [21, 87, 53, 11, 72, 10, 80, 77, 34]])"
      ]
     },
     "execution_count": 29,
     "metadata": {},
     "output_type": "execute_result"
    }
   ],
   "source": [
    "np.reshape(Array, [3,9])"
   ]
  },
  {
   "cell_type": "code",
   "execution_count": 30,
   "id": "a05776bd",
   "metadata": {},
   "outputs": [
    {
     "data": {
      "text/plain": [
       "array([[23, 73, 63],\n",
       "       [36, 54, 85],\n",
       "       [53, 73, 26],\n",
       "       [24, 94, 84],\n",
       "       [12, 74, 98],\n",
       "       [85, 67, 90],\n",
       "       [21, 87, 53],\n",
       "       [11, 72, 10],\n",
       "       [80, 77, 34]])"
      ]
     },
     "execution_count": 30,
     "metadata": {},
     "output_type": "execute_result"
    }
   ],
   "source": [
    "np.reshape(Array, (9,3))"
   ]
  },
  {
   "cell_type": "code",
   "execution_count": 31,
   "id": "822528e8",
   "metadata": {},
   "outputs": [
    {
     "data": {
      "text/plain": [
       "array([[[23, 73, 63, 36, 54, 85, 53, 73, 26]],\n",
       "\n",
       "       [[24, 94, 84, 12, 74, 98, 85, 67, 90]],\n",
       "\n",
       "       [[21, 87, 53, 11, 72, 10, 80, 77, 34]]])"
      ]
     },
     "execution_count": 31,
     "metadata": {},
     "output_type": "execute_result"
    }
   ],
   "source": [
    "np.reshape(Array, [3, 1, 9])"
   ]
  },
  {
   "cell_type": "code",
   "execution_count": 32,
   "id": "6ce4bc11",
   "metadata": {},
   "outputs": [
    {
     "data": {
      "text/plain": [
       "array([[[23, 73, 63]],\n",
       "\n",
       "       [[36, 54, 85]],\n",
       "\n",
       "       [[53, 73, 26]],\n",
       "\n",
       "       [[24, 94, 84]],\n",
       "\n",
       "       [[12, 74, 98]],\n",
       "\n",
       "       [[85, 67, 90]],\n",
       "\n",
       "       [[21, 87, 53]],\n",
       "\n",
       "       [[11, 72, 10]],\n",
       "\n",
       "       [[80, 77, 34]]])"
      ]
     },
     "execution_count": 32,
     "metadata": {},
     "output_type": "execute_result"
    }
   ],
   "source": [
    "np.reshape(Array, [9, 1, 3])"
   ]
  },
  {
   "cell_type": "code",
   "execution_count": 33,
   "id": "dee0ffa9",
   "metadata": {},
   "outputs": [
    {
     "data": {
      "text/plain": [
       "3"
      ]
     },
     "execution_count": 33,
     "metadata": {},
     "output_type": "execute_result"
    }
   ],
   "source": [
    "len(Array)"
   ]
  },
  {
   "cell_type": "markdown",
   "id": "7a5bd92a",
   "metadata": {},
   "source": [
    "### 3). Deleting an array - numpy.delete(\"array name\", sub-array/list, axis)\n",
    "\n",
    "Axis (0) = entire list "
   ]
  },
  {
   "cell_type": "code",
   "execution_count": 34,
   "id": "bf1b075b",
   "metadata": {},
   "outputs": [],
   "source": [
    "New= np.array([[[9, 8, 7],\n",
    "               [1, 2, 3],\n",
    "               [7, 6, 5]],\n",
    "               \n",
    "              [[1, 3, 7],\n",
    "              [8, 4, 6],\n",
    "              [9, 0, 2]],\n",
    "              \n",
    "              [[2, 7, 3],\n",
    "              [5, 1, 8],\n",
    "              [9, 0, 6]]])"
   ]
  },
  {
   "cell_type": "code",
   "execution_count": 35,
   "id": "1b765d04",
   "metadata": {},
   "outputs": [
    {
     "data": {
      "text/plain": [
       "(3, 3, 3)"
      ]
     },
     "execution_count": 35,
     "metadata": {},
     "output_type": "execute_result"
    }
   ],
   "source": [
    "New.shape"
   ]
  },
  {
   "cell_type": "code",
   "execution_count": 36,
   "id": "d11a5727",
   "metadata": {},
   "outputs": [
    {
     "data": {
      "text/plain": [
       "array([[[1, 3, 7],\n",
       "        [8, 4, 6],\n",
       "        [9, 0, 2]],\n",
       "\n",
       "       [[2, 7, 3],\n",
       "        [5, 1, 8],\n",
       "        [9, 0, 6]]])"
      ]
     },
     "execution_count": 36,
     "metadata": {},
     "output_type": "execute_result"
    }
   ],
   "source": [
    "# This delete function (New, \"list Number\", 0) removes the entire sub-list 1 from the array\n",
    "np.delete(New, 0, 0)"
   ]
  },
  {
   "cell_type": "code",
   "execution_count": 37,
   "id": "4d53a479",
   "metadata": {},
   "outputs": [
    {
     "data": {
      "text/plain": [
       "array([[[9, 8, 7],\n",
       "        [1, 2, 3],\n",
       "        [7, 6, 5]],\n",
       "\n",
       "       [[2, 7, 3],\n",
       "        [5, 1, 8],\n",
       "        [9, 0, 6]]])"
      ]
     },
     "execution_count": 37,
     "metadata": {},
     "output_type": "execute_result"
    }
   ],
   "source": [
    "# This delete function (New, \"list Number\", 0) removes the second sub-list from the array\n",
    "np.delete(New, 1, 0)"
   ]
  },
  {
   "cell_type": "code",
   "execution_count": 38,
   "id": "d7b41c89",
   "metadata": {},
   "outputs": [
    {
     "data": {
      "text/plain": [
       "array([[[9, 8, 7],\n",
       "        [1, 2, 3],\n",
       "        [7, 6, 5]],\n",
       "\n",
       "       [[1, 3, 7],\n",
       "        [8, 4, 6],\n",
       "        [9, 0, 2]]])"
      ]
     },
     "execution_count": 38,
     "metadata": {},
     "output_type": "execute_result"
    }
   ],
   "source": [
    "# This delete function (New, \"list Number\", 0) removes the entire 3rd sub-list/array\n",
    "np.delete(New, 2, 0)"
   ]
  },
  {
   "cell_type": "code",
   "execution_count": 39,
   "id": "4743854a",
   "metadata": {},
   "outputs": [
    {
     "data": {
      "text/plain": [
       "array([[[9, 8, 7],\n",
       "        [1, 2, 3],\n",
       "        [7, 6, 5]],\n",
       "\n",
       "       [[1, 3, 7],\n",
       "        [8, 4, 6],\n",
       "        [9, 0, 2]],\n",
       "\n",
       "       [[2, 7, 3],\n",
       "        [5, 1, 8],\n",
       "        [9, 0, 6]]])"
      ]
     },
     "execution_count": 39,
     "metadata": {},
     "output_type": "execute_result"
    }
   ],
   "source": [
    "New"
   ]
  },
  {
   "cell_type": "code",
   "execution_count": 40,
   "id": "2ca757f0",
   "metadata": {},
   "outputs": [
    {
     "data": {
      "text/plain": [
       "array([[[1, 2, 3],\n",
       "        [7, 6, 5]],\n",
       "\n",
       "       [[8, 4, 6],\n",
       "        [9, 0, 2]],\n",
       "\n",
       "       [[5, 1, 8],\n",
       "        [9, 0, 6]]])"
      ]
     },
     "execution_count": 40,
     "metadata": {},
     "output_type": "execute_result"
    }
   ],
   "source": [
    "# This delete function (New, 0, 1) removes the first row in each subarray along the horizontal X-axis\n",
    "np.delete(New, 0, 1 )"
   ]
  },
  {
   "cell_type": "code",
   "execution_count": 41,
   "id": "295303c6",
   "metadata": {},
   "outputs": [
    {
     "data": {
      "text/plain": [
       "array([[[9, 8, 7],\n",
       "        [7, 6, 5]],\n",
       "\n",
       "       [[1, 3, 7],\n",
       "        [9, 0, 2]],\n",
       "\n",
       "       [[2, 7, 3],\n",
       "        [9, 0, 6]]])"
      ]
     },
     "execution_count": 41,
     "metadata": {},
     "output_type": "execute_result"
    }
   ],
   "source": [
    "# This delete function (New, 1, 1) removes the second row in each subarray along the horizontal, X-axis\n",
    "np.delete(New, 1, 1)"
   ]
  },
  {
   "cell_type": "code",
   "execution_count": 42,
   "id": "4bbdd409",
   "metadata": {},
   "outputs": [
    {
     "data": {
      "text/plain": [
       "array([[[9, 8, 7],\n",
       "        [1, 2, 3]],\n",
       "\n",
       "       [[1, 3, 7],\n",
       "        [8, 4, 6]],\n",
       "\n",
       "       [[2, 7, 3],\n",
       "        [5, 1, 8]]])"
      ]
     },
     "execution_count": 42,
     "metadata": {},
     "output_type": "execute_result"
    }
   ],
   "source": [
    "# This delete function (New, 0, 1) removes the third row in each subarray along the horizontal, X-axis\n",
    "np.delete(New, 2, 1)"
   ]
  },
  {
   "cell_type": "code",
   "execution_count": 43,
   "id": "b1aec3f4",
   "metadata": {},
   "outputs": [
    {
     "ename": "AxisError",
     "evalue": "axis 3 is out of bounds for array of dimension 3",
     "output_type": "error",
     "traceback": [
      "\u001b[1;31m---------------------------------------------------------------------------\u001b[0m",
      "\u001b[1;31mAxisError\u001b[0m                                 Traceback (most recent call last)",
      "Input \u001b[1;32mIn [43]\u001b[0m, in \u001b[0;36m<cell line: 4>\u001b[1;34m()\u001b[0m\n\u001b[0;32m      1\u001b[0m \u001b[38;5;66;03m#AxisError: axis 3 is out of bounds for array of dimension 3\u001b[39;00m\n\u001b[0;32m      2\u001b[0m \u001b[38;5;66;03m#This function did not work because we only have three axis (0= entire, 1=x-axis, 2 =y-axis)\u001b[39;00m\n\u001b[1;32m----> 4\u001b[0m \u001b[43mnp\u001b[49m\u001b[38;5;241;43m.\u001b[39;49m\u001b[43mdelete\u001b[49m\u001b[43m(\u001b[49m\u001b[43mNew\u001b[49m\u001b[43m,\u001b[49m\u001b[43m \u001b[49m\u001b[38;5;241;43m0\u001b[39;49m\u001b[43m,\u001b[49m\u001b[43m \u001b[49m\u001b[38;5;241;43m3\u001b[39;49m\u001b[43m)\u001b[49m\n",
      "File \u001b[1;32m<__array_function__ internals>:5\u001b[0m, in \u001b[0;36mdelete\u001b[1;34m(*args, **kwargs)\u001b[0m\n",
      "File \u001b[1;32m~\\anaconda3\\lib\\site-packages\\numpy\\lib\\function_base.py:4464\u001b[0m, in \u001b[0;36mdelete\u001b[1;34m(arr, obj, axis)\u001b[0m\n\u001b[0;32m   4462\u001b[0m     axis \u001b[38;5;241m=\u001b[39m ndim \u001b[38;5;241m-\u001b[39m \u001b[38;5;241m1\u001b[39m\n\u001b[0;32m   4463\u001b[0m \u001b[38;5;28;01melse\u001b[39;00m:\n\u001b[1;32m-> 4464\u001b[0m     axis \u001b[38;5;241m=\u001b[39m \u001b[43mnormalize_axis_index\u001b[49m\u001b[43m(\u001b[49m\u001b[43maxis\u001b[49m\u001b[43m,\u001b[49m\u001b[43m \u001b[49m\u001b[43mndim\u001b[49m\u001b[43m)\u001b[49m\n\u001b[0;32m   4466\u001b[0m slobj \u001b[38;5;241m=\u001b[39m [\u001b[38;5;28mslice\u001b[39m(\u001b[38;5;28;01mNone\u001b[39;00m)]\u001b[38;5;241m*\u001b[39mndim\n\u001b[0;32m   4467\u001b[0m N \u001b[38;5;241m=\u001b[39m arr\u001b[38;5;241m.\u001b[39mshape[axis]\n",
      "\u001b[1;31mAxisError\u001b[0m: axis 3 is out of bounds for array of dimension 3"
     ]
    }
   ],
   "source": [
    "#AxisError: axis 3 is out of bounds for array of dimension 3\n",
    "#This function did not work because we only have three axis (0= entire, 1=x-axis, 2 =y-axis)\n",
    "\n",
    "np.delete(New, 0, 3)"
   ]
  },
  {
   "cell_type": "code",
   "execution_count": 44,
   "id": "3c55cfcc",
   "metadata": {},
   "outputs": [
    {
     "data": {
      "text/plain": [
       "array([[[9, 8, 7],\n",
       "        [1, 2, 3],\n",
       "        [7, 6, 5]],\n",
       "\n",
       "       [[1, 3, 7],\n",
       "        [8, 4, 6],\n",
       "        [9, 0, 2]],\n",
       "\n",
       "       [[2, 7, 3],\n",
       "        [5, 1, 8],\n",
       "        [9, 0, 6]]])"
      ]
     },
     "execution_count": 44,
     "metadata": {},
     "output_type": "execute_result"
    }
   ],
   "source": [
    "New"
   ]
  },
  {
   "cell_type": "code",
   "execution_count": 45,
   "id": "8333d6c2",
   "metadata": {},
   "outputs": [
    {
     "data": {
      "text/plain": [
       "array([[[8, 7],\n",
       "        [2, 3],\n",
       "        [6, 5]],\n",
       "\n",
       "       [[3, 7],\n",
       "        [4, 6],\n",
       "        [0, 2]],\n",
       "\n",
       "       [[7, 3],\n",
       "        [1, 8],\n",
       "        [0, 6]]])"
      ]
     },
     "execution_count": 45,
     "metadata": {},
     "output_type": "execute_result"
    }
   ],
   "source": [
    "# This delete function (New, 0, 1) removes the first column in each subarray along the vertical, y-axis\n",
    "np.delete(New, 0, 2)"
   ]
  },
  {
   "cell_type": "code",
   "execution_count": 46,
   "id": "7c0120d9",
   "metadata": {},
   "outputs": [
    {
     "data": {
      "text/plain": [
       "array([[[9, 7],\n",
       "        [1, 3],\n",
       "        [7, 5]],\n",
       "\n",
       "       [[1, 7],\n",
       "        [8, 6],\n",
       "        [9, 2]],\n",
       "\n",
       "       [[2, 3],\n",
       "        [5, 8],\n",
       "        [9, 6]]])"
      ]
     },
     "execution_count": 46,
     "metadata": {},
     "output_type": "execute_result"
    }
   ],
   "source": [
    "# This delete function (New, 0, 1) removes the second column in each subarray along the vertical, y-axis\n",
    "np.delete(New, 1, 2)"
   ]
  },
  {
   "cell_type": "code",
   "execution_count": 47,
   "id": "66fbf489",
   "metadata": {},
   "outputs": [
    {
     "data": {
      "text/plain": [
       "array([[[9, 8],\n",
       "        [1, 2],\n",
       "        [7, 6]],\n",
       "\n",
       "       [[1, 3],\n",
       "        [8, 4],\n",
       "        [9, 0]],\n",
       "\n",
       "       [[2, 7],\n",
       "        [5, 1],\n",
       "        [9, 0]]])"
      ]
     },
     "execution_count": 47,
     "metadata": {},
     "output_type": "execute_result"
    }
   ],
   "source": [
    "# This delete function (New, 0, 1) removes the third column in each subarray along the vertical, y-axis\n",
    "np.delete(New, 2, 2)"
   ]
  },
  {
   "cell_type": "code",
   "execution_count": 48,
   "id": "cd68c3b9",
   "metadata": {},
   "outputs": [
    {
     "data": {
      "text/plain": [
       "array([[[9, 8, 7],\n",
       "        [1, 2, 3],\n",
       "        [7, 6, 5]],\n",
       "\n",
       "       [[1, 3, 7],\n",
       "        [8, 4, 6],\n",
       "        [9, 0, 2]],\n",
       "\n",
       "       [[2, 7, 3],\n",
       "        [5, 1, 8],\n",
       "        [9, 0, 6]]])"
      ]
     },
     "execution_count": 48,
     "metadata": {},
     "output_type": "execute_result"
    }
   ],
   "source": [
    "New"
   ]
  },
  {
   "cell_type": "code",
   "execution_count": 49,
   "id": "9cffd8fd",
   "metadata": {},
   "outputs": [
    {
     "data": {
      "text/plain": [
       "array([[9, 8, 7],\n",
       "       [1, 2, 3],\n",
       "       [7, 6, 5],\n",
       "       [1, 3, 7],\n",
       "       [8, 4, 6],\n",
       "       [9, 0, 2],\n",
       "       [2, 7, 3],\n",
       "       [5, 1, 8],\n",
       "       [9, 0, 6]])"
      ]
     },
     "execution_count": 49,
     "metadata": {},
     "output_type": "execute_result"
    }
   ],
   "source": [
    "np.reshape(New, [9, 3])"
   ]
  },
  {
   "cell_type": "code",
   "execution_count": 50,
   "id": "d525884a",
   "metadata": {},
   "outputs": [
    {
     "data": {
      "text/plain": [
       "array([9, 2, 3, 7, 6, 5, 1, 3, 7, 8, 4, 6, 9, 0, 2, 2, 7, 3, 5, 1, 8, 9,\n",
       "       0, 6])"
      ]
     },
     "execution_count": 50,
     "metadata": {},
     "output_type": "execute_result"
    }
   ],
   "source": [
    "np.delete(New, [1, 2, 3])"
   ]
  },
  {
   "cell_type": "code",
   "execution_count": 51,
   "id": "7a1bb275",
   "metadata": {},
   "outputs": [
    {
     "data": {
      "text/plain": [
       "array([[[9, 7],\n",
       "        [1, 3],\n",
       "        [7, 5]],\n",
       "\n",
       "       [[1, 7],\n",
       "        [8, 6],\n",
       "        [9, 2]],\n",
       "\n",
       "       [[2, 3],\n",
       "        [5, 8],\n",
       "        [9, 6]]])"
      ]
     },
     "execution_count": 51,
     "metadata": {},
     "output_type": "execute_result"
    }
   ],
   "source": [
    "np.delete(New, 1, 2)"
   ]
  },
  {
   "cell_type": "markdown",
   "id": "b3751302",
   "metadata": {},
   "source": [
    "### 4). Inserting new items into an array - numpy.insert(\"arrayname\", \"position\", \"new list/array\", axis)\n",
    "To insert, "
   ]
  },
  {
   "cell_type": "code",
   "execution_count": 52,
   "id": "fb168c8d",
   "metadata": {},
   "outputs": [
    {
     "data": {
      "text/plain": [
       "array([[[9, 8, 7],\n",
       "        [1, 2, 3],\n",
       "        [7, 6, 5]],\n",
       "\n",
       "       [[1, 3, 7],\n",
       "        [8, 4, 6],\n",
       "        [9, 0, 2]],\n",
       "\n",
       "       [[2, 7, 3],\n",
       "        [5, 1, 8],\n",
       "        [9, 0, 6]]])"
      ]
     },
     "execution_count": 52,
     "metadata": {},
     "output_type": "execute_result"
    }
   ],
   "source": [
    "New"
   ]
  },
  {
   "cell_type": "code",
   "execution_count": 53,
   "id": "fb2ff9e2",
   "metadata": {},
   "outputs": [
    {
     "data": {
      "text/plain": [
       "array([[[9, 8, 0, 7],\n",
       "        [1, 2, 0, 3],\n",
       "        [7, 6, 0, 5]],\n",
       "\n",
       "       [[1, 3, 0, 7],\n",
       "        [8, 4, 0, 6],\n",
       "        [9, 0, 0, 2]],\n",
       "\n",
       "       [[2, 7, 0, 3],\n",
       "        [5, 1, 0, 8],\n",
       "        [9, 0, 0, 6]]])"
      ]
     },
     "execution_count": 53,
     "metadata": {},
     "output_type": "execute_result"
    }
   ],
   "source": [
    "#This function inserts 0 all thru into the third column of each list along the vertical, y-axis\n",
    "np.insert(New, 2, 0, 2)"
   ]
  },
  {
   "cell_type": "code",
   "execution_count": 54,
   "id": "0a9d1b11",
   "metadata": {},
   "outputs": [
    {
     "data": {
      "text/plain": [
       "array([[[9, 8, 7],\n",
       "        [1, 2, 3],\n",
       "        [2, 2, 2],\n",
       "        [7, 6, 5]],\n",
       "\n",
       "       [[1, 3, 7],\n",
       "        [8, 4, 6],\n",
       "        [2, 2, 2],\n",
       "        [9, 0, 2]],\n",
       "\n",
       "       [[2, 7, 3],\n",
       "        [5, 1, 8],\n",
       "        [2, 2, 2],\n",
       "        [9, 0, 6]]])"
      ]
     },
     "execution_count": 54,
     "metadata": {},
     "output_type": "execute_result"
    }
   ],
   "source": [
    "#This function inserts 2 all thru into the 3rd row of each list along the horizontal, x-axis\n",
    "np.insert(New, 2, 2, 1)"
   ]
  },
  {
   "cell_type": "code",
   "execution_count": 55,
   "id": "a68795bd",
   "metadata": {},
   "outputs": [
    {
     "data": {
      "text/plain": [
       "array([[[9, 8, 7],\n",
       "        [0, 1, 0],\n",
       "        [1, 2, 3],\n",
       "        [7, 6, 5]],\n",
       "\n",
       "       [[1, 3, 7],\n",
       "        [0, 1, 0],\n",
       "        [8, 4, 6],\n",
       "        [9, 0, 2]],\n",
       "\n",
       "       [[2, 7, 3],\n",
       "        [0, 1, 0],\n",
       "        [5, 1, 8],\n",
       "        [9, 0, 6]]])"
      ]
     },
     "execution_count": 55,
     "metadata": {},
     "output_type": "execute_result"
    }
   ],
   "source": [
    "#This function inserts [0, 1, 0] all thru into the 2nd row in each list along the horizontal, x-axis\n",
    "np.insert(New, 1, [0, 1, 0], 1)"
   ]
  },
  {
   "cell_type": "code",
   "execution_count": 56,
   "id": "e2fc5746",
   "metadata": {},
   "outputs": [
    {
     "data": {
      "text/plain": [
       "array([[[24,  9,  8,  7],\n",
       "        [13,  1,  2,  3],\n",
       "        [56,  7,  6,  5]],\n",
       "\n",
       "       [[24,  1,  3,  7],\n",
       "        [13,  8,  4,  6],\n",
       "        [56,  9,  0,  2]],\n",
       "\n",
       "       [[24,  2,  7,  3],\n",
       "        [13,  5,  1,  8],\n",
       "        [56,  9,  0,  6]]])"
      ]
     },
     "execution_count": 56,
     "metadata": {},
     "output_type": "execute_result"
    }
   ],
   "source": [
    "#This function inserts [24, 13, 56] all thru into first column in each list along the vertical, y-axis\n",
    "np.insert(New, 0, [24, 13, 56], 2)"
   ]
  },
  {
   "cell_type": "code",
   "execution_count": 57,
   "id": "9eaaec31",
   "metadata": {},
   "outputs": [
    {
     "data": {
      "text/plain": [
       "array([[[6, 5, 9],\n",
       "        [6, 5, 9],\n",
       "        [6, 5, 9]],\n",
       "\n",
       "       [[9, 8, 7],\n",
       "        [1, 2, 3],\n",
       "        [7, 6, 5]],\n",
       "\n",
       "       [[1, 3, 7],\n",
       "        [8, 4, 6],\n",
       "        [9, 0, 2]],\n",
       "\n",
       "       [[2, 7, 3],\n",
       "        [5, 1, 8],\n",
       "        [9, 0, 6]]])"
      ]
     },
     "execution_count": 57,
     "metadata": {},
     "output_type": "execute_result"
    }
   ],
   "source": [
    "#This function inserts [6, 5, 9] as a 3 by 3 matrix into first position of list  in the array along the entire x and y axis\n",
    "np.insert(New, 0, [6, 5, 9], 0)"
   ]
  },
  {
   "cell_type": "code",
   "execution_count": 58,
   "id": "9f69eb1f",
   "metadata": {},
   "outputs": [
    {
     "data": {
      "text/plain": [
       "array([[[9, 8, 7],\n",
       "        [1, 2, 3],\n",
       "        [7, 6, 5]],\n",
       "\n",
       "       [[1, 3, 7],\n",
       "        [8, 4, 6],\n",
       "        [9, 0, 2]],\n",
       "\n",
       "       [[6, 5, 9],\n",
       "        [6, 5, 9],\n",
       "        [6, 5, 9]],\n",
       "\n",
       "       [[2, 7, 3],\n",
       "        [5, 1, 8],\n",
       "        [9, 0, 6]]])"
      ]
     },
     "execution_count": 58,
     "metadata": {},
     "output_type": "execute_result"
    }
   ],
   "source": [
    "#This function inserts [6, 5, 9] all thru as a third subarray along the entire x and y axis\n",
    "np.insert(New, 2, [6, 5, 9], 0)"
   ]
  },
  {
   "cell_type": "markdown",
   "id": "43f62f3e",
   "metadata": {},
   "source": [
    "### Little Practice"
   ]
  },
  {
   "cell_type": "code",
   "execution_count": 59,
   "id": "d4858b99",
   "metadata": {},
   "outputs": [
    {
     "data": {
      "text/plain": [
       "array([[[9, 8, 7],\n",
       "        [1, 2, 3],\n",
       "        [7, 6, 5]],\n",
       "\n",
       "       [[1, 3, 7],\n",
       "        [8, 4, 6],\n",
       "        [9, 0, 2]],\n",
       "\n",
       "       [[2, 7, 3],\n",
       "        [5, 1, 8],\n",
       "        [9, 0, 6]]])"
      ]
     },
     "execution_count": 59,
     "metadata": {},
     "output_type": "execute_result"
    }
   ],
   "source": [
    "New"
   ]
  },
  {
   "cell_type": "code",
   "execution_count": 60,
   "id": "0ff20592",
   "metadata": {},
   "outputs": [
    {
     "data": {
      "text/plain": [
       "array([[9, 8, 7, 1, 2, 3, 7, 6, 5],\n",
       "       [1, 3, 7, 8, 4, 6, 9, 0, 2],\n",
       "       [2, 7, 3, 5, 1, 8, 9, 0, 6]])"
      ]
     },
     "execution_count": 60,
     "metadata": {},
     "output_type": "execute_result"
    }
   ],
   "source": [
    "np.reshape(New, [3,9])"
   ]
  },
  {
   "cell_type": "code",
   "execution_count": 61,
   "id": "88c8fbda",
   "metadata": {},
   "outputs": [
    {
     "data": {
      "text/plain": [
       "array([[[9, 7],\n",
       "        [1, 3],\n",
       "        [7, 5]],\n",
       "\n",
       "       [[1, 7],\n",
       "        [8, 6],\n",
       "        [9, 2]],\n",
       "\n",
       "       [[2, 3],\n",
       "        [5, 8],\n",
       "        [9, 6]]])"
      ]
     },
     "execution_count": 61,
     "metadata": {},
     "output_type": "execute_result"
    }
   ],
   "source": [
    "np.delete(New, 1, 2)"
   ]
  },
  {
   "cell_type": "code",
   "execution_count": 67,
   "id": "609a40bc",
   "metadata": {},
   "outputs": [],
   "source": [
    "j =np.insert(New, 2, (2, 9, 4), 2)\n",
    "g =np.insert(New, 2, [1, 5, 2], 1)"
   ]
  },
  {
   "cell_type": "code",
   "execution_count": 68,
   "id": "358cc881",
   "metadata": {},
   "outputs": [
    {
     "data": {
      "text/plain": [
       "3"
      ]
     },
     "execution_count": 68,
     "metadata": {},
     "output_type": "execute_result"
    }
   ],
   "source": [
    "len(j)"
   ]
  },
  {
   "cell_type": "code",
   "execution_count": 69,
   "id": "38a4060e",
   "metadata": {},
   "outputs": [
    {
     "data": {
      "text/plain": [
       "array([[[9, 8, 7],\n",
       "        [1, 2, 3],\n",
       "        [7, 6, 5]],\n",
       "\n",
       "       [[1, 3, 7],\n",
       "        [8, 4, 6],\n",
       "        [9, 0, 2]],\n",
       "\n",
       "       [[2, 7, 3],\n",
       "        [5, 1, 8],\n",
       "        [9, 0, 6]]])"
      ]
     },
     "execution_count": 69,
     "metadata": {},
     "output_type": "execute_result"
    }
   ],
   "source": [
    "New"
   ]
  },
  {
   "cell_type": "code",
   "execution_count": 70,
   "id": "85f96c40",
   "metadata": {},
   "outputs": [
    {
     "data": {
      "text/plain": [
       "array([[[9, 8, 2, 7],\n",
       "        [1, 2, 9, 3],\n",
       "        [7, 6, 4, 5]],\n",
       "\n",
       "       [[1, 3, 2, 7],\n",
       "        [8, 4, 9, 6],\n",
       "        [9, 0, 4, 2]],\n",
       "\n",
       "       [[2, 7, 2, 3],\n",
       "        [5, 1, 9, 8],\n",
       "        [9, 0, 4, 6]]])"
      ]
     },
     "execution_count": 70,
     "metadata": {},
     "output_type": "execute_result"
    }
   ],
   "source": [
    "j"
   ]
  },
  {
   "cell_type": "code",
   "execution_count": 71,
   "id": "c45c1671",
   "metadata": {},
   "outputs": [
    {
     "data": {
      "text/plain": [
       "array([[[9, 8, 7],\n",
       "        [1, 2, 3],\n",
       "        [1, 5, 2],\n",
       "        [7, 6, 5]],\n",
       "\n",
       "       [[1, 3, 7],\n",
       "        [8, 4, 6],\n",
       "        [1, 5, 2],\n",
       "        [9, 0, 2]],\n",
       "\n",
       "       [[2, 7, 3],\n",
       "        [5, 1, 8],\n",
       "        [1, 5, 2],\n",
       "        [9, 0, 6]]])"
      ]
     },
     "execution_count": 71,
     "metadata": {},
     "output_type": "execute_result"
    }
   ],
   "source": [
    "g"
   ]
  },
  {
   "cell_type": "code",
   "execution_count": 72,
   "id": "dd7b92e4",
   "metadata": {},
   "outputs": [
    {
     "data": {
      "text/plain": [
       "array([[[9, 8, 7],\n",
       "        [1, 2, 3],\n",
       "        [7, 6, 5]],\n",
       "\n",
       "       [[1, 3, 7],\n",
       "        [8, 4, 6],\n",
       "        [9, 0, 2]],\n",
       "\n",
       "       [[2, 7, 3],\n",
       "        [5, 1, 8],\n",
       "        [9, 0, 6]]])"
      ]
     },
     "execution_count": 72,
     "metadata": {},
     "output_type": "execute_result"
    }
   ],
   "source": [
    "np.delete(j, 2, 2)"
   ]
  },
  {
   "cell_type": "markdown",
   "id": "9190b2a5",
   "metadata": {},
   "source": [
    "### 5). Append function"
   ]
  },
  {
   "cell_type": "code",
   "execution_count": 73,
   "id": "1d054cc5",
   "metadata": {},
   "outputs": [
    {
     "data": {
      "text/plain": [
       "array([[[9, 8, 7],\n",
       "        [1, 2, 3],\n",
       "        [7, 6, 5]],\n",
       "\n",
       "       [[1, 3, 7],\n",
       "        [8, 4, 6],\n",
       "        [9, 0, 2]],\n",
       "\n",
       "       [[2, 7, 3],\n",
       "        [5, 1, 8],\n",
       "        [9, 0, 6]]])"
      ]
     },
     "execution_count": 73,
     "metadata": {},
     "output_type": "execute_result"
    }
   ],
   "source": [
    "New"
   ]
  },
  {
   "cell_type": "code",
   "execution_count": 74,
   "id": "51bd7aec",
   "metadata": {},
   "outputs": [],
   "source": [
    "a =np.append(New, 3)"
   ]
  },
  {
   "cell_type": "code",
   "execution_count": 75,
   "id": "c9c7c4c4",
   "metadata": {},
   "outputs": [
    {
     "data": {
      "text/plain": [
       "array([9, 8, 7, 1, 2, 3, 7, 6, 5, 1, 3, 7, 8, 4, 6, 9, 0, 2, 2, 7, 3, 5,\n",
       "       1, 8, 9, 0, 6, 3])"
      ]
     },
     "execution_count": 75,
     "metadata": {},
     "output_type": "execute_result"
    }
   ],
   "source": [
    "a"
   ]
  },
  {
   "cell_type": "code",
   "execution_count": 76,
   "id": "6bb69a88",
   "metadata": {},
   "outputs": [
    {
     "data": {
      "text/plain": [
       "28"
      ]
     },
     "execution_count": 76,
     "metadata": {},
     "output_type": "execute_result"
    }
   ],
   "source": [
    "len(a)"
   ]
  },
  {
   "cell_type": "code",
   "execution_count": 78,
   "id": "2f40db09",
   "metadata": {},
   "outputs": [
    {
     "ename": "ValueError",
     "evalue": "cannot reshape array of size 28 into shape (6,5)",
     "output_type": "error",
     "traceback": [
      "\u001b[1;31m---------------------------------------------------------------------------\u001b[0m",
      "\u001b[1;31mValueError\u001b[0m                                Traceback (most recent call last)",
      "Input \u001b[1;32mIn [78]\u001b[0m, in \u001b[0;36m<cell line: 2>\u001b[1;34m()\u001b[0m\n\u001b[0;32m      1\u001b[0m \u001b[38;5;66;03m#This did not work because the arrangement [6,5] can only contain 30 elements and the variable a has only 28\u001b[39;00m\n\u001b[1;32m----> 2\u001b[0m \u001b[43mnp\u001b[49m\u001b[38;5;241;43m.\u001b[39;49m\u001b[43mreshape\u001b[49m\u001b[43m(\u001b[49m\u001b[43ma\u001b[49m\u001b[43m,\u001b[49m\u001b[43m \u001b[49m\u001b[43m[\u001b[49m\u001b[38;5;241;43m6\u001b[39;49m\u001b[43m,\u001b[49m\u001b[43m \u001b[49m\u001b[38;5;241;43m5\u001b[39;49m\u001b[43m]\u001b[49m\u001b[43m)\u001b[49m\n",
      "File \u001b[1;32m<__array_function__ internals>:5\u001b[0m, in \u001b[0;36mreshape\u001b[1;34m(*args, **kwargs)\u001b[0m\n",
      "File \u001b[1;32m~\\anaconda3\\lib\\site-packages\\numpy\\core\\fromnumeric.py:298\u001b[0m, in \u001b[0;36mreshape\u001b[1;34m(a, newshape, order)\u001b[0m\n\u001b[0;32m    198\u001b[0m \u001b[38;5;129m@array_function_dispatch\u001b[39m(_reshape_dispatcher)\n\u001b[0;32m    199\u001b[0m \u001b[38;5;28;01mdef\u001b[39;00m \u001b[38;5;21mreshape\u001b[39m(a, newshape, order\u001b[38;5;241m=\u001b[39m\u001b[38;5;124m'\u001b[39m\u001b[38;5;124mC\u001b[39m\u001b[38;5;124m'\u001b[39m):\n\u001b[0;32m    200\u001b[0m     \u001b[38;5;124;03m\"\"\"\u001b[39;00m\n\u001b[0;32m    201\u001b[0m \u001b[38;5;124;03m    Gives a new shape to an array without changing its data.\u001b[39;00m\n\u001b[0;32m    202\u001b[0m \n\u001b[1;32m   (...)\u001b[0m\n\u001b[0;32m    296\u001b[0m \u001b[38;5;124;03m           [5, 6]])\u001b[39;00m\n\u001b[0;32m    297\u001b[0m \u001b[38;5;124;03m    \"\"\"\u001b[39;00m\n\u001b[1;32m--> 298\u001b[0m     \u001b[38;5;28;01mreturn\u001b[39;00m \u001b[43m_wrapfunc\u001b[49m\u001b[43m(\u001b[49m\u001b[43ma\u001b[49m\u001b[43m,\u001b[49m\u001b[43m \u001b[49m\u001b[38;5;124;43m'\u001b[39;49m\u001b[38;5;124;43mreshape\u001b[39;49m\u001b[38;5;124;43m'\u001b[39;49m\u001b[43m,\u001b[49m\u001b[43m \u001b[49m\u001b[43mnewshape\u001b[49m\u001b[43m,\u001b[49m\u001b[43m \u001b[49m\u001b[43morder\u001b[49m\u001b[38;5;241;43m=\u001b[39;49m\u001b[43morder\u001b[49m\u001b[43m)\u001b[49m\n",
      "File \u001b[1;32m~\\anaconda3\\lib\\site-packages\\numpy\\core\\fromnumeric.py:57\u001b[0m, in \u001b[0;36m_wrapfunc\u001b[1;34m(obj, method, *args, **kwds)\u001b[0m\n\u001b[0;32m     54\u001b[0m     \u001b[38;5;28;01mreturn\u001b[39;00m _wrapit(obj, method, \u001b[38;5;241m*\u001b[39margs, \u001b[38;5;241m*\u001b[39m\u001b[38;5;241m*\u001b[39mkwds)\n\u001b[0;32m     56\u001b[0m \u001b[38;5;28;01mtry\u001b[39;00m:\n\u001b[1;32m---> 57\u001b[0m     \u001b[38;5;28;01mreturn\u001b[39;00m bound(\u001b[38;5;241m*\u001b[39margs, \u001b[38;5;241m*\u001b[39m\u001b[38;5;241m*\u001b[39mkwds)\n\u001b[0;32m     58\u001b[0m \u001b[38;5;28;01mexcept\u001b[39;00m \u001b[38;5;167;01mTypeError\u001b[39;00m:\n\u001b[0;32m     59\u001b[0m     \u001b[38;5;66;03m# A TypeError occurs if the object does have such a method in its\u001b[39;00m\n\u001b[0;32m     60\u001b[0m     \u001b[38;5;66;03m# class, but its signature is not identical to that of NumPy's. This\u001b[39;00m\n\u001b[1;32m   (...)\u001b[0m\n\u001b[0;32m     64\u001b[0m     \u001b[38;5;66;03m# Call _wrapit from within the except clause to ensure a potential\u001b[39;00m\n\u001b[0;32m     65\u001b[0m     \u001b[38;5;66;03m# exception has a traceback chain.\u001b[39;00m\n\u001b[0;32m     66\u001b[0m     \u001b[38;5;28;01mreturn\u001b[39;00m _wrapit(obj, method, \u001b[38;5;241m*\u001b[39margs, \u001b[38;5;241m*\u001b[39m\u001b[38;5;241m*\u001b[39mkwds)\n",
      "\u001b[1;31mValueError\u001b[0m: cannot reshape array of size 28 into shape (6,5)"
     ]
    }
   ],
   "source": [
    "#This did not work because the arrangement [6,5] can only contain 30 elements and the variable a has only 28\n",
    "np.reshape(a, [6, 5])"
   ]
  },
  {
   "cell_type": "code",
   "execution_count": 79,
   "id": "0e884d6a",
   "metadata": {},
   "outputs": [
    {
     "data": {
      "text/plain": [
       "array([[9, 8, 7, 1, 2, 3, 7],\n",
       "       [6, 5, 1, 3, 7, 8, 4],\n",
       "       [6, 9, 0, 2, 2, 7, 3],\n",
       "       [5, 1, 8, 9, 0, 6, 3]])"
      ]
     },
     "execution_count": 79,
     "metadata": {},
     "output_type": "execute_result"
    }
   ],
   "source": [
    "np.reshape(a, [4, 7])"
   ]
  },
  {
   "cell_type": "code",
   "execution_count": 80,
   "id": "815d7f85",
   "metadata": {},
   "outputs": [
    {
     "data": {
      "text/plain": [
       "array([[[9, 8, 7, 1]],\n",
       "\n",
       "       [[2, 3, 7, 6]],\n",
       "\n",
       "       [[5, 1, 3, 7]],\n",
       "\n",
       "       [[8, 4, 6, 9]],\n",
       "\n",
       "       [[0, 2, 2, 7]],\n",
       "\n",
       "       [[3, 5, 1, 8]],\n",
       "\n",
       "       [[9, 0, 6, 3]]])"
      ]
     },
     "execution_count": 80,
     "metadata": {},
     "output_type": "execute_result"
    }
   ],
   "source": [
    "np.reshape(a, [7, 1, 4])"
   ]
  },
  {
   "cell_type": "code",
   "execution_count": 81,
   "id": "71e6ba54",
   "metadata": {},
   "outputs": [
    {
     "data": {
      "text/plain": [
       "array([[[9, 8, 7, 1, 2, 3, 7]],\n",
       "\n",
       "       [[6, 5, 1, 3, 7, 8, 4]],\n",
       "\n",
       "       [[6, 9, 0, 2, 2, 7, 3]],\n",
       "\n",
       "       [[5, 1, 8, 9, 0, 6, 3]]])"
      ]
     },
     "execution_count": 81,
     "metadata": {},
     "output_type": "execute_result"
    }
   ],
   "source": [
    "np.reshape(a, [4, 1, 7])"
   ]
  },
  {
   "cell_type": "code",
   "execution_count": null,
   "id": "14e8fef9",
   "metadata": {},
   "outputs": [],
   "source": []
  }
 ],
 "metadata": {
  "kernelspec": {
   "display_name": "Python 3 (ipykernel)",
   "language": "python",
   "name": "python3"
  },
  "language_info": {
   "codemirror_mode": {
    "name": "ipython",
    "version": 3
   },
   "file_extension": ".py",
   "mimetype": "text/x-python",
   "name": "python",
   "nbconvert_exporter": "python",
   "pygments_lexer": "ipython3",
   "version": "3.9.12"
  }
 },
 "nbformat": 4,
 "nbformat_minor": 5
}
