{
 "cells": [
  {
   "cell_type": "markdown",
   "id": "f3a777b0",
   "metadata": {},
   "source": [
    "### In this notebook is a practice of what I first learned using Numpy"
   ]
  },
  {
   "cell_type": "code",
   "execution_count": 1,
   "id": "1dd33269",
   "metadata": {},
   "outputs": [],
   "source": [
    "import numpy as np"
   ]
  },
  {
   "cell_type": "markdown",
   "id": "76d8c780",
   "metadata": {},
   "source": [
    "### To sum up a 1Dimensional Array"
   ]
  },
  {
   "cell_type": "code",
   "execution_count": 2,
   "id": "f7789ab2",
   "metadata": {},
   "outputs": [],
   "source": [
    "array = [23, 53, 63]"
   ]
  },
  {
   "cell_type": "code",
   "execution_count": 3,
   "id": "2a6ad08f",
   "metadata": {},
   "outputs": [],
   "source": [
    "job = np.array(array)"
   ]
  },
  {
   "cell_type": "code",
   "execution_count": 4,
   "id": "29521fd2",
   "metadata": {},
   "outputs": [
    {
     "data": {
      "text/plain": [
       "139"
      ]
     },
     "execution_count": 4,
     "metadata": {},
     "output_type": "execute_result"
    }
   ],
   "source": [
    "(job).sum()"
   ]
  },
  {
   "cell_type": "markdown",
   "id": "1e949e77",
   "metadata": {},
   "source": [
    "### To Calculate the time/duration it takes to compute a code"
   ]
  },
  {
   "cell_type": "code",
   "execution_count": 5,
   "id": "cc08cfb9",
   "metadata": {},
   "outputs": [],
   "source": [
    "num_1 = list(range(10))\n",
    "num_2= list(range(1000,2000000))"
   ]
  },
  {
   "cell_type": "code",
   "execution_count": 6,
   "id": "e010a865",
   "metadata": {},
   "outputs": [],
   "source": [
    "Num_1 = np.array(num_1)\n",
    "Num_2 = np.array(num_2)"
   ]
  },
  {
   "cell_type": "code",
   "execution_count": 7,
   "id": "816212a5",
   "metadata": {},
   "outputs": [
    {
     "name": "stdout",
     "output_type": "stream",
     "text": [
      "CPU times: total: 31.2 ms\n",
      "Wall time: 998 µs\n"
     ]
    },
    {
     "data": {
      "text/plain": [
       "45285"
      ]
     },
     "execution_count": 7,
     "metadata": {},
     "output_type": "execute_result"
    }
   ],
   "source": [
    "%%time\n",
    "result = 0\n",
    "for x, y in zip(num_1, num_2):\n",
    "    result += x*y\n",
    "result"
   ]
  },
  {
   "cell_type": "markdown",
   "id": "45c06208",
   "metadata": {},
   "source": [
    "### Types of Arrays"
   ]
  },
  {
   "cell_type": "code",
   "execution_count": 8,
   "id": "fd68deb6",
   "metadata": {},
   "outputs": [],
   "source": [
    "#This is a 1D array\n",
    "Num_array1 = np.array([241, 26, 152])\n",
    "\n",
    "#This is a 2D array\n",
    "Num_array2 = np.array([[4.3, 53, 241],\n",
    "                      [23, 3.4, 26],\n",
    "                      [36, 36, 7.3]])\n",
    "\n",
    "#This is a 3D array\n",
    "Num_array3 = np.array([[[61, 57, 37],\n",
    "                      [54, 47, 53]],\n",
    "                      [[43, 64, 82],\n",
    "                      [24, 72, 83]]])\n"
   ]
  },
  {
   "cell_type": "markdown",
   "id": "45e08c4a",
   "metadata": {},
   "source": [
    "### To Check the data type of numpy arrays use \"data.dtype\""
   ]
  },
  {
   "cell_type": "code",
   "execution_count": 9,
   "id": "d1c1dd9a",
   "metadata": {},
   "outputs": [
    {
     "data": {
      "text/plain": [
       "dtype('int32')"
      ]
     },
     "execution_count": 9,
     "metadata": {},
     "output_type": "execute_result"
    }
   ],
   "source": [
    "Num_array1.dtype"
   ]
  },
  {
   "cell_type": "code",
   "execution_count": 10,
   "id": "5aae60e0",
   "metadata": {},
   "outputs": [
    {
     "data": {
      "text/plain": [
       "dtype('float64')"
      ]
     },
     "execution_count": 10,
     "metadata": {},
     "output_type": "execute_result"
    }
   ],
   "source": [
    "Num_array2.dtype"
   ]
  },
  {
   "cell_type": "markdown",
   "id": "8ec127b8",
   "metadata": {},
   "source": [
    "### To Check the shape of numpy arrays use \"data.shape\""
   ]
  },
  {
   "cell_type": "code",
   "execution_count": 11,
   "id": "3e8b3ecb",
   "metadata": {},
   "outputs": [
    {
     "data": {
      "text/plain": [
       "(3,)"
      ]
     },
     "execution_count": 11,
     "metadata": {},
     "output_type": "execute_result"
    }
   ],
   "source": [
    "#The result shows that we have a row with 3 columns\n",
    "Num_array1.shape"
   ]
  },
  {
   "cell_type": "code",
   "execution_count": 12,
   "id": "4d63e6ef",
   "metadata": {},
   "outputs": [
    {
     "data": {
      "text/plain": [
       "(3, 3)"
      ]
     },
     "execution_count": 12,
     "metadata": {},
     "output_type": "execute_result"
    }
   ],
   "source": [
    "#This shows that the array has 3 rows and 3 columns\n",
    "Num_array2.shape"
   ]
  },
  {
   "cell_type": "code",
   "execution_count": 13,
   "id": "2643d544",
   "metadata": {},
   "outputs": [
    {
     "data": {
      "text/plain": [
       "(2, 2, 3)"
      ]
     },
     "execution_count": 13,
     "metadata": {},
     "output_type": "execute_result"
    }
   ],
   "source": [
    "# This shows that we has 2 lists, 2 rows and 3 columns in each of the lists\n",
    "Num_array3.shape"
   ]
  },
  {
   "cell_type": "code",
   "execution_count": 14,
   "id": "5f572ccb",
   "metadata": {},
   "outputs": [],
   "source": [
    "Num_array4 = np.array([[[61, 57, 37],\n",
    "                      [54, 47, 53],\n",
    "                      [43, 64, 82],\n",
    "                      [24, 72, 83]],\n",
    "                     \n",
    "                     [[63, 57, 37],\n",
    "                      [54, 45, 53],\n",
    "                      [43, 61, 82],\n",
    "                      [24, 72, 53]]])"
   ]
  },
  {
   "cell_type": "code",
   "execution_count": 15,
   "id": "6c36ef1b",
   "metadata": {},
   "outputs": [
    {
     "data": {
      "text/plain": [
       "(2, 4, 3)"
      ]
     },
     "execution_count": 15,
     "metadata": {},
     "output_type": "execute_result"
    }
   ],
   "source": [
    "#The result shows that Num_array4 has 2 lists, with each having 4 row with 3 columns\n",
    "Num_array4.shape"
   ]
  },
  {
   "cell_type": "code",
   "execution_count": 16,
   "id": "70aa1759",
   "metadata": {},
   "outputs": [],
   "source": [
    "Num_array5 = np.array([[[61, 57],\n",
    "                      [54, 47],\n",
    "                      [43, 64,]],\n",
    "                     \n",
    "                     [[63, 37],\n",
    "                      [54, 53],\n",
    "                      [24, 72]],\n",
    "                      \n",
    "                      [[32, 36],\n",
    "                      [43, 74],\n",
    "                      [54, 85]],\n",
    "                      \n",
    "                      [[23, 16],\n",
    "                      [54, 89],\n",
    "                      [42, 90]]])"
   ]
  },
  {
   "cell_type": "code",
   "execution_count": 17,
   "id": "4dc44341",
   "metadata": {},
   "outputs": [
    {
     "data": {
      "text/plain": [
       "(4, 3, 2)"
      ]
     },
     "execution_count": 17,
     "metadata": {},
     "output_type": "execute_result"
    }
   ],
   "source": [
    "#The result shows that Num_array5 has 4 lists, with each having 3 row with 2 columns\n",
    "Num_array5.shape"
   ]
  },
  {
   "cell_type": "markdown",
   "id": "ce52c19e",
   "metadata": {},
   "source": [
    "### To multiply two matrixes together use \"np.matmul\" or the \"@\" character"
   ]
  },
  {
   "cell_type": "code",
   "execution_count": 18,
   "id": "9d241501",
   "metadata": {},
   "outputs": [
    {
     "data": {
      "text/plain": [
       "array([39046.3,  9583.4, 10721.6])"
      ]
     },
     "execution_count": 18,
     "metadata": {},
     "output_type": "execute_result"
    }
   ],
   "source": [
    "#Method 1\n",
    "np.matmul(Num_array2, Num_array1)"
   ]
  },
  {
   "cell_type": "code",
   "execution_count": 19,
   "id": "db1782a2",
   "metadata": {},
   "outputs": [
    {
     "data": {
      "text/plain": [
       "array([39046.3,  9583.4, 10721.6])"
      ]
     },
     "execution_count": 19,
     "metadata": {},
     "output_type": "execute_result"
    }
   ],
   "source": [
    "#Method 2\n",
    "Num_array2 @ Num_array1"
   ]
  },
  {
   "cell_type": "markdown",
   "id": "d896d03d",
   "metadata": {},
   "source": [
    "### Arithmetic Operations and Comparison of Numpy arrays"
   ]
  },
  {
   "cell_type": "code",
   "execution_count": 20,
   "id": "052b2d1d",
   "metadata": {},
   "outputs": [],
   "source": [
    "No_1 = np.array([[34, 36, 25],\n",
    "               [45, 32, 24],\n",
    "               [86, 78, 8]])\n",
    "No_2 = np.array([[54, 36, 24],\n",
    "               [48, 53, 1],\n",
    "               [86, 34, 8]])"
   ]
  },
  {
   "cell_type": "code",
   "execution_count": 21,
   "id": "db9b562d",
   "metadata": {},
   "outputs": [
    {
     "data": {
      "text/plain": [
       "array([[ 88,  72,  49],\n",
       "       [ 93,  85,  25],\n",
       "       [172, 112,  16]])"
      ]
     },
     "execution_count": 21,
     "metadata": {},
     "output_type": "execute_result"
    }
   ],
   "source": [
    "#This adds the two matrices together\n",
    "No_1 + No_2 "
   ]
  },
  {
   "cell_type": "code",
   "execution_count": 22,
   "id": "19329add",
   "metadata": {},
   "outputs": [
    {
     "data": {
      "text/plain": [
       "array([[36, 38, 27],\n",
       "       [47, 34, 26],\n",
       "       [88, 80, 10]])"
      ]
     },
     "execution_count": 22,
     "metadata": {},
     "output_type": "execute_result"
    }
   ],
   "source": [
    "#This adds 2 two each element of the array No_1\n",
    "No_1 + 2"
   ]
  },
  {
   "cell_type": "code",
   "execution_count": 23,
   "id": "013a9db8",
   "metadata": {},
   "outputs": [
    {
     "data": {
      "text/plain": [
       "(3, 3)"
      ]
     },
     "execution_count": 23,
     "metadata": {},
     "output_type": "execute_result"
    }
   ],
   "source": [
    "#This tells us our array is a 3 by matrix i.e it has 3 rows and 3 columns\n",
    "No_2.shape"
   ]
  },
  {
   "cell_type": "code",
   "execution_count": 24,
   "id": "8e42ba13",
   "metadata": {},
   "outputs": [
    {
     "data": {
      "text/plain": [
       "array([[False,  True, False],\n",
       "       [False, False, False],\n",
       "       [ True, False,  True]])"
      ]
     },
     "execution_count": 24,
     "metadata": {},
     "output_type": "execute_result"
    }
   ],
   "source": [
    "#This line of code compares the individual elements of the two array to find which of its elements are equal\n",
    "No_1 == No_2"
   ]
  },
  {
   "cell_type": "code",
   "execution_count": 25,
   "id": "fcd81d90",
   "metadata": {},
   "outputs": [
    {
     "data": {
      "text/plain": [
       "3"
      ]
     },
     "execution_count": 25,
     "metadata": {},
     "output_type": "execute_result"
    }
   ],
   "source": [
    "# This tells the number of elements that are equal in the both arrays. The results shows that there are only 3 equal elements(True =1 and False = 0)\n",
    "(No_1 ==No_2).sum()"
   ]
  },
  {
   "cell_type": "code",
   "execution_count": 26,
   "id": "03cf3c84",
   "metadata": {},
   "outputs": [
    {
     "data": {
      "text/plain": [
       "array([[False, False,  True],\n",
       "       [False, False,  True],\n",
       "       [False,  True, False]])"
      ]
     },
     "execution_count": 26,
     "metadata": {},
     "output_type": "execute_result"
    }
   ],
   "source": [
    "#This line of code compares the individual elements of the two array to find which of its elements in array1 is greater than those in array2\n",
    "No_1 > No_2"
   ]
  },
  {
   "cell_type": "code",
   "execution_count": 27,
   "id": "5100c02e",
   "metadata": {},
   "outputs": [
    {
     "data": {
      "text/plain": [
       "array([[ True, False, False],\n",
       "       [ True,  True, False],\n",
       "       [False, False, False]])"
      ]
     },
     "execution_count": 27,
     "metadata": {},
     "output_type": "execute_result"
    }
   ],
   "source": [
    "#vice-versa\n",
    "No_2 >No_1"
   ]
  },
  {
   "cell_type": "code",
   "execution_count": 28,
   "id": "93202af3",
   "metadata": {},
   "outputs": [
    {
     "data": {
      "text/plain": [
       "array([[ True, False,  True],\n",
       "       [ True,  True,  True],\n",
       "       [False,  True, False]])"
      ]
     },
     "execution_count": 28,
     "metadata": {},
     "output_type": "execute_result"
    }
   ],
   "source": [
    "#This line of code compares the individual elements of the two array to find which of its elements are NOT equal\n",
    "No_1 != No_2"
   ]
  },
  {
   "cell_type": "markdown",
   "id": "70dcb182",
   "metadata": {},
   "source": [
    "## Array and Indexing"
   ]
  },
  {
   "cell_type": "code",
   "execution_count": 29,
   "id": "3ca63c68",
   "metadata": {},
   "outputs": [],
   "source": [
    "No_1 = np.array([[34, 36, 25],\n",
    "               [45, 32, 24],\n",
    "               [86, 78, 8]])\n",
    "No_2 = np.array([[54, 36, 24],\n",
    "               [48, 53, 1],\n",
    "               [86, 34, 8]])"
   ]
  },
  {
   "cell_type": "code",
   "execution_count": 30,
   "id": "edeaecbc",
   "metadata": {},
   "outputs": [
    {
     "data": {
      "text/plain": [
       "78"
      ]
     },
     "execution_count": 30,
     "metadata": {},
     "output_type": "execute_result"
    }
   ],
   "source": [
    "#This helps us access the element in the third row and second column of array No_1\n",
    "No_1[2,1]"
   ]
  },
  {
   "cell_type": "code",
   "execution_count": 31,
   "id": "dc9fedb2",
   "metadata": {},
   "outputs": [],
   "source": [
    "New_array = np.array([[[54, 36, 24],\n",
    "                        [48, 53, 1],\n",
    "                        [86, 34, 8],\n",
    "                        [24, 72, 83]],\n",
    "                     \n",
    "                     [[63, 57, 37],\n",
    "                      [54, 45, 53],\n",
    "                      [43, 61, 82],\n",
    "                      [24, 72, 53]]])\n",
    "\n",
    "New_array1 = np.array([[[61, 57],\n",
    "                      [54, 42],\n",
    "                      [93, 64,]],\n",
    "                     \n",
    "                     [[63, 37],\n",
    "                      [52, 53],\n",
    "                      [24, 72]],\n",
    "                      \n",
    "                      [[32, 30],\n",
    "                      [43, 74],\n",
    "                      [51, 85]],\n",
    "                      \n",
    "                      [[45, 16],\n",
    "                      [54, 85],\n",
    "                      [42, 92]]])"
   ]
  },
  {
   "cell_type": "code",
   "execution_count": 32,
   "id": "2614e6f6",
   "metadata": {},
   "outputs": [
    {
     "data": {
      "text/plain": [
       "array([[93],\n",
       "       [24],\n",
       "       [51],\n",
       "       [42]])"
      ]
     },
     "execution_count": 32,
     "metadata": {},
     "output_type": "execute_result"
    }
   ],
   "source": [
    "#say we want to get all the elements from the 1st column before the 2nd column in the 3rd row of each lists\n",
    "New_array1[0:, 2, :1]"
   ]
  },
  {
   "cell_type": "code",
   "execution_count": 33,
   "id": "c5d186db",
   "metadata": {},
   "outputs": [
    {
     "data": {
      "text/plain": [
       "array([53, 74, 85])"
      ]
     },
     "execution_count": 33,
     "metadata": {},
     "output_type": "execute_result"
    }
   ],
   "source": [
    "#This code gives us the 2nd element of the 2nd row from the second list to the last list in the array\n",
    "New_array1[1:, 1, 1]"
   ]
  },
  {
   "cell_type": "code",
   "execution_count": 34,
   "id": "ac7c23db",
   "metadata": {},
   "outputs": [
    {
     "data": {
      "text/plain": [
       "array([[86, 34,  8],\n",
       "       [43, 61, 82]])"
      ]
     },
     "execution_count": 34,
     "metadata": {},
     "output_type": "execute_result"
    }
   ],
   "source": [
    "New_array[0:, 2]"
   ]
  },
  {
   "cell_type": "code",
   "execution_count": 35,
   "id": "2427ab1e",
   "metadata": {},
   "outputs": [
    {
     "data": {
      "text/plain": [
       "array([ 8, 82])"
      ]
     },
     "execution_count": 35,
     "metadata": {},
     "output_type": "execute_result"
    }
   ],
   "source": [
    "New_array[0:, 2, 2]"
   ]
  },
  {
   "cell_type": "code",
   "execution_count": 36,
   "id": "e543d849",
   "metadata": {},
   "outputs": [
    {
     "data": {
      "text/plain": [
       "array([[54, 36, 24],\n",
       "       [48, 53,  1]])"
      ]
     },
     "execution_count": 36,
     "metadata": {},
     "output_type": "execute_result"
    }
   ],
   "source": [
    "New_array[0, 0:2]"
   ]
  },
  {
   "cell_type": "code",
   "execution_count": 37,
   "id": "cb7f3522",
   "metadata": {},
   "outputs": [
    {
     "data": {
      "text/plain": [
       "array([[86, 34,  8],\n",
       "       [24, 72, 83]])"
      ]
     },
     "execution_count": 37,
     "metadata": {},
     "output_type": "execute_result"
    }
   ],
   "source": [
    "New_array[0, 2:4]"
   ]
  },
  {
   "cell_type": "code",
   "execution_count": 38,
   "id": "d36036c8",
   "metadata": {},
   "outputs": [
    {
     "data": {
      "text/plain": [
       "array([[[54, 36, 24],\n",
       "        [48, 53,  1],\n",
       "        [86, 34,  8],\n",
       "        [24, 72, 83]],\n",
       "\n",
       "       [[63, 57, 37],\n",
       "        [54, 45, 53],\n",
       "        [43, 61, 82],\n",
       "        [24, 72, 53]]])"
      ]
     },
     "execution_count": 38,
     "metadata": {},
     "output_type": "execute_result"
    }
   ],
   "source": [
    "New_array\n"
   ]
  },
  {
   "cell_type": "code",
   "execution_count": 39,
   "id": "9796e093",
   "metadata": {},
   "outputs": [
    {
     "data": {
      "text/plain": [
       "array([[36, 24],\n",
       "       [53,  1]])"
      ]
     },
     "execution_count": 39,
     "metadata": {},
     "output_type": "execute_result"
    }
   ],
   "source": [
    "New_array[0, 0:2, 1:]"
   ]
  },
  {
   "cell_type": "code",
   "execution_count": 40,
   "id": "5c5c7920",
   "metadata": {},
   "outputs": [
    {
     "data": {
      "text/plain": [
       "array([[86, 34],\n",
       "       [24, 72]])"
      ]
     },
     "execution_count": 40,
     "metadata": {},
     "output_type": "execute_result"
    }
   ],
   "source": [
    "New_array[0, 2:4, :2]"
   ]
  },
  {
   "cell_type": "code",
   "execution_count": 41,
   "id": "37274464",
   "metadata": {},
   "outputs": [
    {
     "data": {
      "text/plain": [
       "array([54, 45, 53])"
      ]
     },
     "execution_count": 41,
     "metadata": {},
     "output_type": "execute_result"
    }
   ],
   "source": [
    "New_array[1,1]"
   ]
  },
  {
   "cell_type": "code",
   "execution_count": 42,
   "id": "048c1b4c",
   "metadata": {},
   "outputs": [
    {
     "data": {
      "text/plain": [
       "82"
      ]
     },
     "execution_count": 42,
     "metadata": {},
     "output_type": "execute_result"
    }
   ],
   "source": [
    "New_array[1, 2, 2]"
   ]
  },
  {
   "cell_type": "code",
   "execution_count": 43,
   "id": "4bc5406d",
   "metadata": {},
   "outputs": [
    {
     "data": {
      "text/plain": [
       "array([93, 64])"
      ]
     },
     "execution_count": 43,
     "metadata": {},
     "output_type": "execute_result"
    }
   ],
   "source": [
    "New_array1[0, 2]"
   ]
  },
  {
   "cell_type": "markdown",
   "id": "db5e2824",
   "metadata": {},
   "source": [
    "### Creating a Matrix"
   ]
  },
  {
   "cell_type": "code",
   "execution_count": 44,
   "id": "f825d068",
   "metadata": {},
   "outputs": [
    {
     "data": {
      "text/plain": [
       "array([[[0., 0., 0., 0.],\n",
       "        [0., 0., 0., 0.],\n",
       "        [0., 0., 0., 0.]],\n",
       "\n",
       "       [[0., 0., 0., 0.],\n",
       "        [0., 0., 0., 0.],\n",
       "        [0., 0., 0., 0.]],\n",
       "\n",
       "       [[0., 0., 0., 0.],\n",
       "        [0., 0., 0., 0.],\n",
       "        [0., 0., 0., 0.]]])"
      ]
     },
     "execution_count": 44,
     "metadata": {},
     "output_type": "execute_result"
    }
   ],
   "source": [
    "#all Zeros\n",
    "np.zeros((3, 3, 4))"
   ]
  },
  {
   "cell_type": "code",
   "execution_count": 45,
   "id": "18648d55",
   "metadata": {},
   "outputs": [
    {
     "data": {
      "text/plain": [
       "array([[[1., 1., 1.],\n",
       "        [1., 1., 1.]],\n",
       "\n",
       "       [[1., 1., 1.],\n",
       "        [1., 1., 1.]],\n",
       "\n",
       "       [[1., 1., 1.],\n",
       "        [1., 1., 1.]]])"
      ]
     },
     "execution_count": 45,
     "metadata": {},
     "output_type": "execute_result"
    }
   ],
   "source": [
    "#All ones\n",
    "np.ones((3, 2, 3))"
   ]
  },
  {
   "cell_type": "code",
   "execution_count": 46,
   "id": "853f3045",
   "metadata": {},
   "outputs": [
    {
     "data": {
      "text/plain": [
       "array([[5, 5, 5, 5],\n",
       "       [5, 5, 5, 5],\n",
       "       [5, 5, 5, 5]])"
      ]
     },
     "execution_count": 46,
     "metadata": {},
     "output_type": "execute_result"
    }
   ],
   "source": [
    "#All Fives\n",
    "np.full([3,4], 5)"
   ]
  },
  {
   "cell_type": "code",
   "execution_count": 47,
   "id": "2b3a1a53",
   "metadata": {},
   "outputs": [
    {
     "data": {
      "text/plain": [
       "array([[[9, 9],\n",
       "        [9, 9],\n",
       "        [9, 9]],\n",
       "\n",
       "       [[9, 9],\n",
       "        [9, 9],\n",
       "        [9, 9]],\n",
       "\n",
       "       [[9, 9],\n",
       "        [9, 9],\n",
       "        [9, 9]]])"
      ]
     },
     "execution_count": 47,
     "metadata": {},
     "output_type": "execute_result"
    }
   ],
   "source": [
    "#All Nines\n",
    "np.full([3,3,2], 9)"
   ]
  },
  {
   "cell_type": "code",
   "execution_count": 48,
   "id": "226dd022",
   "metadata": {},
   "outputs": [],
   "source": [
    "import numpy as np"
   ]
  },
  {
   "cell_type": "code",
   "execution_count": 49,
   "id": "b77d5869",
   "metadata": {},
   "outputs": [
    {
     "data": {
      "text/plain": [
       "array([[1., 0., 0.],\n",
       "       [0., 1., 0.],\n",
       "       [0., 0., 1.]])"
      ]
     },
     "execution_count": 49,
     "metadata": {},
     "output_type": "execute_result"
    }
   ],
   "source": [
    "#Identity Matrix\n",
    "np.eye(3, 3)"
   ]
  },
  {
   "cell_type": "code",
   "execution_count": 50,
   "id": "09efebef",
   "metadata": {},
   "outputs": [
    {
     "data": {
      "text/plain": [
       "array([0.49315681, 0.53253101, 0.24140161, 0.91136432, 0.6999704 ,\n",
       "       0.71909327, 0.17939686, 0.23312723, 0.83387971, 0.72332756,\n",
       "       0.03789644, 0.93106512])"
      ]
     },
     "execution_count": 50,
     "metadata": {},
     "output_type": "execute_result"
    }
   ],
   "source": [
    "#Randon Vector - gives matrix of random values\n",
    "np.random.rand(12)"
   ]
  },
  {
   "cell_type": "code",
   "execution_count": 51,
   "id": "0a256238",
   "metadata": {},
   "outputs": [
    {
     "data": {
      "text/plain": [
       "array([[[ 1.28588067e+00, -6.44928601e-04,  4.78631565e-01,\n",
       "          6.32307571e-01],\n",
       "        [-9.24008474e-01, -2.41831595e-01, -1.13351283e+00,\n",
       "          6.17324113e-01]],\n",
       "\n",
       "       [[-1.19922642e+00,  1.43963819e+00,  5.07950968e-01,\n",
       "          1.60545666e+00],\n",
       "        [ 1.38836279e-01, -5.78209626e-01, -3.20846859e-01,\n",
       "         -3.92366960e-01]],\n",
       "\n",
       "       [[ 4.36765789e-01,  1.38522298e+00,  6.87258731e-01,\n",
       "         -4.81327145e-01],\n",
       "        [ 6.70526554e-01,  2.79232483e-01,  5.79317921e-01,\n",
       "         -7.09819649e-01]],\n",
       "\n",
       "       [[-1.05145636e+00,  6.69264821e-01, -1.26266735e+00,\n",
       "         -5.89027400e-01],\n",
       "        [ 1.11039420e+00,  4.73159009e-01,  9.43938884e-01,\n",
       "          1.10648131e+00]],\n",
       "\n",
       "       [[-1.02065525e-01, -5.30493010e-01, -4.82733849e-01,\n",
       "         -4.15655813e-01],\n",
       "        [-8.12237001e-01,  3.91733786e-01,  1.58659920e+00,\n",
       "          3.55883299e-01]]])"
      ]
     },
     "execution_count": 51,
     "metadata": {},
     "output_type": "execute_result"
    }
   ],
   "source": [
    "#Randon Vector with \"n\"- give matrix of random value from guassian expression\n",
    "np.random.randn(5, 2, 4)"
   ]
  },
  {
   "cell_type": "code",
   "execution_count": 52,
   "id": "ce4df71d",
   "metadata": {},
   "outputs": [
    {
     "data": {
      "text/plain": [
       "array([ 2,  4,  6,  8, 10, 12, 14, 16, 18, 20, 22, 24, 26, 28, 30, 32, 34,\n",
       "       36, 38, 40])"
      ]
     },
     "execution_count": 52,
     "metadata": {},
     "output_type": "execute_result"
    }
   ],
   "source": [
    "#To write a range with (start, end and step)\n",
    "np.arange(2, 42, 2)"
   ]
  },
  {
   "cell_type": "code",
   "execution_count": 53,
   "id": "6d9021a4",
   "metadata": {},
   "outputs": [
    {
     "data": {
      "text/plain": [
       "(20,)"
      ]
     },
     "execution_count": 53,
     "metadata": {},
     "output_type": "execute_result"
    }
   ],
   "source": [
    "# This helps to know the number of elements in the array\n",
    "np.arange(2, 42, 2).shape"
   ]
  },
  {
   "cell_type": "code",
   "execution_count": 54,
   "id": "33152930",
   "metadata": {},
   "outputs": [
    {
     "data": {
      "text/plain": [
       "array([[[ 2,  4,  6,  8, 10],\n",
       "        [12, 14, 16, 18, 20]],\n",
       "\n",
       "       [[22, 24, 26, 28, 30],\n",
       "        [32, 34, 36, 38, 40]]])"
      ]
     },
     "execution_count": 54,
     "metadata": {},
     "output_type": "execute_result"
    }
   ],
   "source": [
    "#This helps you shape your document into matrix form\n",
    "np.arange(2, 42, 2).reshape(2, 2, 5)"
   ]
  },
  {
   "cell_type": "code",
   "execution_count": 55,
   "id": "f11629fb",
   "metadata": {},
   "outputs": [
    {
     "data": {
      "text/plain": [
       "array([ 2.,  4.,  6.,  8., 10., 12., 14., 16., 18., 20.])"
      ]
     },
     "execution_count": 55,
     "metadata": {},
     "output_type": "execute_result"
    }
   ],
   "source": [
    "#This helps you split your range of numbers into your desired number of list - range (start, end, list NO)\n",
    "np.linspace(2, 20, 10)"
   ]
  },
  {
   "cell_type": "code",
   "execution_count": null,
   "id": "465308e3",
   "metadata": {},
   "outputs": [],
   "source": []
  }
 ],
 "metadata": {
  "kernelspec": {
   "display_name": "Python 3 (ipykernel)",
   "language": "python",
   "name": "python3"
  },
  "language_info": {
   "codemirror_mode": {
    "name": "ipython",
    "version": 3
   },
   "file_extension": ".py",
   "mimetype": "text/x-python",
   "name": "python",
   "nbconvert_exporter": "python",
   "pygments_lexer": "ipython3",
   "version": "3.9.12"
  }
 },
 "nbformat": 4,
 "nbformat_minor": 5
}
