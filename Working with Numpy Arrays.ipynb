{
 "cells": [
  {
   "cell_type": "markdown",
   "id": "29699df9",
   "metadata": {},
   "source": [
    "### In this notebook is a practice of what I first learned using Numpy"
   ]
  },
  {
   "cell_type": "code",
   "execution_count": 1,
   "id": "1dd33269",
   "metadata": {},
   "outputs": [],
   "source": [
    "import numpy as np"
   ]
  },
  {
   "cell_type": "markdown",
   "id": "76d8c780",
   "metadata": {},
   "source": [
    "### To sum up a 1Dimensional Array"
   ]
  },
  {
   "cell_type": "code",
   "execution_count": 2,
   "id": "f7789ab2",
   "metadata": {},
   "outputs": [],
   "source": [
    "array = [23, 53, 63]"
   ]
  },
  {
   "cell_type": "code",
   "execution_count": 3,
   "id": "2a6ad08f",
   "metadata": {},
   "outputs": [],
   "source": [
    "job = np.array(array)"
   ]
  },
  {
   "cell_type": "code",
   "execution_count": 4,
   "id": "29521fd2",
   "metadata": {},
   "outputs": [
    {
     "data": {
      "text/plain": [
       "139"
      ]
     },
     "execution_count": 4,
     "metadata": {},
     "output_type": "execute_result"
    }
   ],
   "source": [
    "(job).sum()"
   ]
  },
  {
   "cell_type": "markdown",
   "id": "1e949e77",
   "metadata": {},
   "source": [
    "### To Calculate the time/duration it takes to compute a code"
   ]
  },
  {
   "cell_type": "code",
   "execution_count": 5,
   "id": "cc08cfb9",
   "metadata": {},
   "outputs": [],
   "source": [
    "num_1 = list(range(10))\n",
    "num_2= list(range(1000,2000000))"
   ]
  },
  {
   "cell_type": "code",
   "execution_count": 6,
   "id": "e010a865",
   "metadata": {},
   "outputs": [],
   "source": [
    "Num_1 = np.array(num_1)\n",
    "Num_2 = np.array(num_2)"
   ]
  },
  {
   "cell_type": "code",
   "execution_count": 7,
   "id": "816212a5",
   "metadata": {},
   "outputs": [
    {
     "name": "stdout",
     "output_type": "stream",
     "text": [
      "CPU times: total: 0 ns\n",
      "Wall time: 0 ns\n"
     ]
    },
    {
     "data": {
      "text/plain": [
       "45285"
      ]
     },
     "execution_count": 7,
     "metadata": {},
     "output_type": "execute_result"
    }
   ],
   "source": [
    "%%time\n",
    "result = 0\n",
    "for x, y in zip(num_1, num_2):\n",
    "    result += x*y\n",
    "result"
   ]
  },
  {
   "cell_type": "code",
   "execution_count": 8,
   "id": "d777c39e",
   "metadata": {},
   "outputs": [
    {
     "ename": "ValueError",
     "evalue": "shapes (10,) and (1999000,) not aligned: 10 (dim 0) != 1999000 (dim 0)",
     "output_type": "error",
     "traceback": [
      "\u001b[1;31m---------------------------------------------------------------------------\u001b[0m",
      "\u001b[1;31mValueError\u001b[0m                                Traceback (most recent call last)",
      "File \u001b[1;32m<timed eval>:1\u001b[0m, in \u001b[0;36m<module>\u001b[1;34m\u001b[0m\n",
      "File \u001b[1;32m<__array_function__ internals>:5\u001b[0m, in \u001b[0;36mdot\u001b[1;34m(*args, **kwargs)\u001b[0m\n",
      "\u001b[1;31mValueError\u001b[0m: shapes (10,) and (1999000,) not aligned: 10 (dim 0) != 1999000 (dim 0)"
     ]
    }
   ],
   "source": [
    "%%time\n",
    "np.dot(Num_1, Num_2)"
   ]
  },
  {
   "cell_type": "markdown",
   "id": "45c06208",
   "metadata": {},
   "source": [
    "### Types of Arrays"
   ]
  },
  {
   "cell_type": "code",
   "execution_count": 9,
   "id": "fd68deb6",
   "metadata": {},
   "outputs": [],
   "source": [
    "#This is a 1D array\n",
    "Num_array1 = np.array([241, 26, 152])\n",
    "\n",
    "#This is a 2D array\n",
    "Num_array2 = np.array([[4.3, 53, 241],\n",
    "                      [23, 3.4, 26],\n",
    "                      [36, 36, 7.3]])\n",
    "\n",
    "#This is a 3D array\n",
    "Num_array3 = np.array([[[61, 57, 37],\n",
    "                      [54, 47, 53]],\n",
    "                      [[43, 64, 82],\n",
    "                      [24, 72, 83]]])\n"
   ]
  },
  {
   "cell_type": "markdown",
   "id": "45e08c4a",
   "metadata": {},
   "source": [
    "### To Check the data type of numpy arrays use \"data.dtype\""
   ]
  },
  {
   "cell_type": "code",
   "execution_count": 10,
   "id": "d1c1dd9a",
   "metadata": {},
   "outputs": [
    {
     "data": {
      "text/plain": [
       "dtype('int32')"
      ]
     },
     "execution_count": 10,
     "metadata": {},
     "output_type": "execute_result"
    }
   ],
   "source": [
    "Num_array1.dtype"
   ]
  },
  {
   "cell_type": "code",
   "execution_count": 11,
   "id": "5aae60e0",
   "metadata": {},
   "outputs": [
    {
     "data": {
      "text/plain": [
       "dtype('float64')"
      ]
     },
     "execution_count": 11,
     "metadata": {},
     "output_type": "execute_result"
    }
   ],
   "source": [
    "Num_array2.dtype"
   ]
  },
  {
   "cell_type": "markdown",
   "id": "8ec127b8",
   "metadata": {},
   "source": [
    "### To Check the shape of numpy arrays use \"data.shape\""
   ]
  },
  {
   "cell_type": "code",
   "execution_count": 12,
   "id": "3e8b3ecb",
   "metadata": {},
   "outputs": [
    {
     "data": {
      "text/plain": [
       "(3,)"
      ]
     },
     "execution_count": 12,
     "metadata": {},
     "output_type": "execute_result"
    }
   ],
   "source": [
    "Num_array1.shape"
   ]
  },
  {
   "cell_type": "code",
   "execution_count": 13,
   "id": "4d63e6ef",
   "metadata": {},
   "outputs": [
    {
     "data": {
      "text/plain": [
       "(3, 3)"
      ]
     },
     "execution_count": 13,
     "metadata": {},
     "output_type": "execute_result"
    }
   ],
   "source": [
    "Num_array2.shape"
   ]
  },
  {
   "cell_type": "code",
   "execution_count": 14,
   "id": "2643d544",
   "metadata": {},
   "outputs": [
    {
     "data": {
      "text/plain": [
       "(2, 2, 3)"
      ]
     },
     "execution_count": 14,
     "metadata": {},
     "output_type": "execute_result"
    }
   ],
   "source": [
    "Num_array3.shape"
   ]
  },
  {
   "cell_type": "code",
   "execution_count": 15,
   "id": "5f572ccb",
   "metadata": {},
   "outputs": [],
   "source": [
    "Num_array4 = np.array([[[61, 57, 37],\n",
    "                      [54, 47, 53],\n",
    "                      [43, 64, 82],\n",
    "                      [24, 72, 83]],\n",
    "                     \n",
    "                     [[63, 57, 37],\n",
    "                      [54, 45, 53],\n",
    "                      [43, 61, 82],\n",
    "                      [24, 72, 53]]])"
   ]
  },
  {
   "cell_type": "code",
   "execution_count": 16,
   "id": "6c36ef1b",
   "metadata": {},
   "outputs": [
    {
     "data": {
      "text/plain": [
       "(2, 4, 3)"
      ]
     },
     "execution_count": 16,
     "metadata": {},
     "output_type": "execute_result"
    }
   ],
   "source": [
    "Num_array4.shape"
   ]
  },
  {
   "cell_type": "code",
   "execution_count": 17,
   "id": "70aa1759",
   "metadata": {},
   "outputs": [],
   "source": [
    "Num_array5 = np.array([[[61, 57],\n",
    "                      [54, 47],\n",
    "                      [43, 64,]],\n",
    "                     \n",
    "                     [[63, 37],\n",
    "                      [54, 53],\n",
    "                      [24, 72]],\n",
    "                      \n",
    "                      [[32, 36],\n",
    "                      [43, 74],\n",
    "                      [54, 85]],\n",
    "                      \n",
    "                      [[23, 16],\n",
    "                      [54, 89],\n",
    "                      [42, 90]]])"
   ]
  },
  {
   "cell_type": "code",
   "execution_count": 18,
   "id": "4dc44341",
   "metadata": {},
   "outputs": [
    {
     "data": {
      "text/plain": [
       "(4, 3, 2)"
      ]
     },
     "execution_count": 18,
     "metadata": {},
     "output_type": "execute_result"
    }
   ],
   "source": [
    "Num_array5.shape"
   ]
  },
  {
   "cell_type": "markdown",
   "id": "ce52c19e",
   "metadata": {},
   "source": [
    "### To multiply two matrixes together use \"np.matmul\" or the \"@\" character"
   ]
  },
  {
   "cell_type": "code",
   "execution_count": 19,
   "id": "9d241501",
   "metadata": {},
   "outputs": [
    {
     "data": {
      "text/plain": [
       "array([39046.3,  9583.4, 10721.6])"
      ]
     },
     "execution_count": 19,
     "metadata": {},
     "output_type": "execute_result"
    }
   ],
   "source": [
    "np.matmul(Num_array2, Num_array1)"
   ]
  },
  {
   "cell_type": "code",
   "execution_count": 20,
   "id": "db1782a2",
   "metadata": {},
   "outputs": [
    {
     "data": {
      "text/plain": [
       "array([39046.3,  9583.4, 10721.6])"
      ]
     },
     "execution_count": 20,
     "metadata": {},
     "output_type": "execute_result"
    }
   ],
   "source": [
    "Num_array2 @ Num_array1"
   ]
  },
  {
   "cell_type": "code",
   "execution_count": 21,
   "id": "052b2d1d",
   "metadata": {},
   "outputs": [],
   "source": [
    "No_1 = np.array([[34, 36, 25],\n",
    "               [45, 32, 24],\n",
    "               [86, 78, 8]])\n",
    "No_2 = np.array([[54, 36, 24],\n",
    "               [48, 53, 1],\n",
    "               [86, 34, 8]])"
   ]
  },
  {
   "cell_type": "markdown",
   "id": "d896d03d",
   "metadata": {},
   "source": [
    "### Arithmetic Operations and Comparison of Numpy arrays"
   ]
  },
  {
   "cell_type": "code",
   "execution_count": 22,
   "id": "db9b562d",
   "metadata": {},
   "outputs": [
    {
     "data": {
      "text/plain": [
       "array([[ 88,  72,  49],\n",
       "       [ 93,  85,  25],\n",
       "       [172, 112,  16]])"
      ]
     },
     "execution_count": 22,
     "metadata": {},
     "output_type": "execute_result"
    }
   ],
   "source": [
    "No_1 + No_2 "
   ]
  },
  {
   "cell_type": "code",
   "execution_count": 23,
   "id": "19329add",
   "metadata": {},
   "outputs": [
    {
     "data": {
      "text/plain": [
       "array([[36, 38, 27],\n",
       "       [47, 34, 26],\n",
       "       [88, 80, 10]])"
      ]
     },
     "execution_count": 23,
     "metadata": {},
     "output_type": "execute_result"
    }
   ],
   "source": [
    "No_1 + 2"
   ]
  },
  {
   "cell_type": "code",
   "execution_count": 24,
   "id": "013a9db8",
   "metadata": {},
   "outputs": [
    {
     "data": {
      "text/plain": [
       "(3, 3)"
      ]
     },
     "execution_count": 24,
     "metadata": {},
     "output_type": "execute_result"
    }
   ],
   "source": [
    "No_2.shape"
   ]
  },
  {
   "cell_type": "code",
   "execution_count": 25,
   "id": "8e42ba13",
   "metadata": {},
   "outputs": [
    {
     "data": {
      "text/plain": [
       "array([[False,  True, False],\n",
       "       [False, False, False],\n",
       "       [ True, False,  True]])"
      ]
     },
     "execution_count": 25,
     "metadata": {},
     "output_type": "execute_result"
    }
   ],
   "source": [
    "No_1 == No_2"
   ]
  },
  {
   "cell_type": "code",
   "execution_count": 26,
   "id": "03cf3c84",
   "metadata": {},
   "outputs": [
    {
     "data": {
      "text/plain": [
       "array([[False, False,  True],\n",
       "       [False, False,  True],\n",
       "       [False,  True, False]])"
      ]
     },
     "execution_count": 26,
     "metadata": {},
     "output_type": "execute_result"
    }
   ],
   "source": [
    "No_1 > No_2"
   ]
  },
  {
   "cell_type": "code",
   "execution_count": 27,
   "id": "5100c02e",
   "metadata": {},
   "outputs": [
    {
     "data": {
      "text/plain": [
       "array([[ True, False, False],\n",
       "       [ True,  True, False],\n",
       "       [False, False, False]])"
      ]
     },
     "execution_count": 27,
     "metadata": {},
     "output_type": "execute_result"
    }
   ],
   "source": [
    "No_2 >No_1"
   ]
  },
  {
   "cell_type": "code",
   "execution_count": 28,
   "id": "93202af3",
   "metadata": {},
   "outputs": [
    {
     "data": {
      "text/plain": [
       "array([[ True, False,  True],\n",
       "       [ True,  True,  True],\n",
       "       [False,  True, False]])"
      ]
     },
     "execution_count": 28,
     "metadata": {},
     "output_type": "execute_result"
    }
   ],
   "source": [
    "No_1 != No_2"
   ]
  },
  {
   "cell_type": "code",
   "execution_count": 29,
   "id": "fcd81d90",
   "metadata": {},
   "outputs": [
    {
     "data": {
      "text/plain": [
       "3"
      ]
     },
     "execution_count": 29,
     "metadata": {},
     "output_type": "execute_result"
    }
   ],
   "source": [
    "# This tells the number of elements that are equal in the both arrays(True =1 and False = 0)\n",
    "(No_1 ==No_2).sum()"
   ]
  },
  {
   "cell_type": "markdown",
   "id": "70dcb182",
   "metadata": {},
   "source": [
    "## Array and Indexing"
   ]
  },
  {
   "cell_type": "code",
   "execution_count": 30,
   "id": "3ca63c68",
   "metadata": {},
   "outputs": [],
   "source": [
    "No_1 = np.array([[34, 36, 25],\n",
    "               [45, 32, 24],\n",
    "               [86, 78, 8]])\n",
    "No_2 = np.array([[54, 36, 24],\n",
    "               [48, 53, 1],\n",
    "               [86, 34, 8]])"
   ]
  },
  {
   "cell_type": "code",
   "execution_count": 31,
   "id": "edeaecbc",
   "metadata": {},
   "outputs": [
    {
     "data": {
      "text/plain": [
       "78"
      ]
     },
     "execution_count": 31,
     "metadata": {},
     "output_type": "execute_result"
    }
   ],
   "source": [
    "No_1[2,1]"
   ]
  },
  {
   "cell_type": "code",
   "execution_count": 32,
   "id": "dc9fedb2",
   "metadata": {},
   "outputs": [],
   "source": [
    "New_array = np.array([[[54, 36, 24],\n",
    "                        [48, 53, 1],\n",
    "                        [86, 34, 8],\n",
    "                        [24, 72, 83]],\n",
    "                     \n",
    "                     [[63, 57, 37],\n",
    "                      [54, 45, 53],\n",
    "                      [43, 61, 82],\n",
    "                      [24, 72, 53]]])\n",
    "\n",
    "New_array1 = np.array([[[61, 57],\n",
    "                      [54, 42],\n",
    "                      [93, 64,]],\n",
    "                     \n",
    "                     [[63, 37],\n",
    "                      [52, 53],\n",
    "                      [24, 72]],\n",
    "                      \n",
    "                      [[32, 30],\n",
    "                      [43, 74],\n",
    "                      [51, 85]],\n",
    "                      \n",
    "                      [[45, 16],\n",
    "                      [54, 85],\n",
    "                      [42, 92]]])"
   ]
  },
  {
   "cell_type": "code",
   "execution_count": 33,
   "id": "2614e6f6",
   "metadata": {},
   "outputs": [
    {
     "data": {
      "text/plain": [
       "array([[93],\n",
       "       [24],\n",
       "       [51],\n",
       "       [42]])"
      ]
     },
     "execution_count": 33,
     "metadata": {},
     "output_type": "execute_result"
    }
   ],
   "source": [
    "New_array1[0:, 2, :1]"
   ]
  },
  {
   "cell_type": "code",
   "execution_count": 34,
   "id": "c5d186db",
   "metadata": {},
   "outputs": [
    {
     "data": {
      "text/plain": [
       "array([53, 74, 85])"
      ]
     },
     "execution_count": 34,
     "metadata": {},
     "output_type": "execute_result"
    }
   ],
   "source": [
    "New_array1[1:, 1, 1]"
   ]
  },
  {
   "cell_type": "code",
   "execution_count": 35,
   "id": "ac7c23db",
   "metadata": {},
   "outputs": [
    {
     "data": {
      "text/plain": [
       "array([[86, 34,  8],\n",
       "       [43, 61, 82]])"
      ]
     },
     "execution_count": 35,
     "metadata": {},
     "output_type": "execute_result"
    }
   ],
   "source": [
    "New_array[0:, 2]"
   ]
  },
  {
   "cell_type": "code",
   "execution_count": 36,
   "id": "2427ab1e",
   "metadata": {},
   "outputs": [
    {
     "data": {
      "text/plain": [
       "array([ 8, 82])"
      ]
     },
     "execution_count": 36,
     "metadata": {},
     "output_type": "execute_result"
    }
   ],
   "source": [
    "New_array[0:, 2, 2]"
   ]
  },
  {
   "cell_type": "code",
   "execution_count": 37,
   "id": "e543d849",
   "metadata": {},
   "outputs": [
    {
     "data": {
      "text/plain": [
       "array([[54, 36, 24],\n",
       "       [48, 53,  1]])"
      ]
     },
     "execution_count": 37,
     "metadata": {},
     "output_type": "execute_result"
    }
   ],
   "source": [
    "New_array[0, 0:2]"
   ]
  },
  {
   "cell_type": "code",
   "execution_count": 38,
   "id": "cb7f3522",
   "metadata": {},
   "outputs": [
    {
     "data": {
      "text/plain": [
       "array([[86, 34,  8],\n",
       "       [24, 72, 83]])"
      ]
     },
     "execution_count": 38,
     "metadata": {},
     "output_type": "execute_result"
    }
   ],
   "source": [
    "New_array[0, 2:4]"
   ]
  },
  {
   "cell_type": "code",
   "execution_count": 39,
   "id": "5c5c7920",
   "metadata": {},
   "outputs": [
    {
     "data": {
      "text/plain": [
       "array([[86, 34],\n",
       "       [24, 72]])"
      ]
     },
     "execution_count": 39,
     "metadata": {},
     "output_type": "execute_result"
    }
   ],
   "source": [
    "New_array[0, 2:4, :2]"
   ]
  },
  {
   "cell_type": "code",
   "execution_count": 40,
   "id": "37274464",
   "metadata": {},
   "outputs": [
    {
     "data": {
      "text/plain": [
       "array([54, 45, 53])"
      ]
     },
     "execution_count": 40,
     "metadata": {},
     "output_type": "execute_result"
    }
   ],
   "source": [
    "New_array[1,1]"
   ]
  },
  {
   "cell_type": "code",
   "execution_count": 41,
   "id": "048c1b4c",
   "metadata": {},
   "outputs": [
    {
     "data": {
      "text/plain": [
       "82"
      ]
     },
     "execution_count": 41,
     "metadata": {},
     "output_type": "execute_result"
    }
   ],
   "source": [
    "New_array[1, 2, 2]"
   ]
  },
  {
   "cell_type": "code",
   "execution_count": 42,
   "id": "4bc5406d",
   "metadata": {},
   "outputs": [
    {
     "data": {
      "text/plain": [
       "array([93, 64])"
      ]
     },
     "execution_count": 42,
     "metadata": {},
     "output_type": "execute_result"
    }
   ],
   "source": [
    "New_array1[0, 2]"
   ]
  },
  {
   "cell_type": "markdown",
   "id": "db5e2824",
   "metadata": {},
   "source": [
    "### Creating a Matrix"
   ]
  },
  {
   "cell_type": "code",
   "execution_count": 43,
   "id": "f825d068",
   "metadata": {},
   "outputs": [
    {
     "data": {
      "text/plain": [
       "array([[[0., 0., 0., 0.],\n",
       "        [0., 0., 0., 0.],\n",
       "        [0., 0., 0., 0.]],\n",
       "\n",
       "       [[0., 0., 0., 0.],\n",
       "        [0., 0., 0., 0.],\n",
       "        [0., 0., 0., 0.]],\n",
       "\n",
       "       [[0., 0., 0., 0.],\n",
       "        [0., 0., 0., 0.],\n",
       "        [0., 0., 0., 0.]]])"
      ]
     },
     "execution_count": 43,
     "metadata": {},
     "output_type": "execute_result"
    }
   ],
   "source": [
    "#all Zeros\n",
    "np.zeros((3, 3, 4))"
   ]
  },
  {
   "cell_type": "code",
   "execution_count": 44,
   "id": "18648d55",
   "metadata": {},
   "outputs": [
    {
     "data": {
      "text/plain": [
       "array([[[1., 1., 1.],\n",
       "        [1., 1., 1.]],\n",
       "\n",
       "       [[1., 1., 1.],\n",
       "        [1., 1., 1.]],\n",
       "\n",
       "       [[1., 1., 1.],\n",
       "        [1., 1., 1.]]])"
      ]
     },
     "execution_count": 44,
     "metadata": {},
     "output_type": "execute_result"
    }
   ],
   "source": [
    "#All ones\n",
    "np.ones((3, 2, 3))"
   ]
  },
  {
   "cell_type": "code",
   "execution_count": 45,
   "id": "853f3045",
   "metadata": {},
   "outputs": [
    {
     "data": {
      "text/plain": [
       "array([[5, 5, 5, 5],\n",
       "       [5, 5, 5, 5],\n",
       "       [5, 5, 5, 5]])"
      ]
     },
     "execution_count": 45,
     "metadata": {},
     "output_type": "execute_result"
    }
   ],
   "source": [
    "#All Fives\n",
    "np.full([3,4], 5)"
   ]
  },
  {
   "cell_type": "code",
   "execution_count": 46,
   "id": "2b3a1a53",
   "metadata": {},
   "outputs": [
    {
     "data": {
      "text/plain": [
       "array([[[9, 9],\n",
       "        [9, 9],\n",
       "        [9, 9]],\n",
       "\n",
       "       [[9, 9],\n",
       "        [9, 9],\n",
       "        [9, 9]],\n",
       "\n",
       "       [[9, 9],\n",
       "        [9, 9],\n",
       "        [9, 9]]])"
      ]
     },
     "execution_count": 46,
     "metadata": {},
     "output_type": "execute_result"
    }
   ],
   "source": [
    "#All Nines\n",
    "np.full([3,3,2], 9)"
   ]
  },
  {
   "cell_type": "code",
   "execution_count": 47,
   "id": "226dd022",
   "metadata": {},
   "outputs": [],
   "source": [
    "import numpy as np"
   ]
  },
  {
   "cell_type": "code",
   "execution_count": 48,
   "id": "b77d5869",
   "metadata": {},
   "outputs": [
    {
     "data": {
      "text/plain": [
       "array([[1., 0., 0.],\n",
       "       [0., 1., 0.],\n",
       "       [0., 0., 1.]])"
      ]
     },
     "execution_count": 48,
     "metadata": {},
     "output_type": "execute_result"
    }
   ],
   "source": [
    "#Identity Matrix\n",
    "np.eye(3, 3)"
   ]
  },
  {
   "cell_type": "code",
   "execution_count": 49,
   "id": "09efebef",
   "metadata": {},
   "outputs": [
    {
     "data": {
      "text/plain": [
       "array([0.57773544, 0.04290984, 0.18172865, 0.98257962, 0.76309343,\n",
       "       0.19748741, 0.73191718, 0.6357707 , 0.79595602, 0.73444516,\n",
       "       0.9109827 , 0.41137107])"
      ]
     },
     "execution_count": 49,
     "metadata": {},
     "output_type": "execute_result"
    }
   ],
   "source": [
    "#Randon Vector - gives matrix of random values\n",
    "np.random.rand(12)"
   ]
  },
  {
   "cell_type": "code",
   "execution_count": 50,
   "id": "0a256238",
   "metadata": {},
   "outputs": [
    {
     "data": {
      "text/plain": [
       "array([[[-0.83934519, -1.39274385, -0.00497795, -0.64121804],\n",
       "        [-0.90034665,  0.44412774,  0.13679128,  1.61584346]],\n",
       "\n",
       "       [[ 0.74525211, -1.39446676, -1.50130215, -1.90499752],\n",
       "        [ 1.19502892,  0.26000652, -0.06714964,  0.9216227 ]],\n",
       "\n",
       "       [[ 0.04262735,  0.85776675,  1.07203705,  0.35007755],\n",
       "        [ 0.09311482,  1.56467122,  0.29355983, -0.84449052]],\n",
       "\n",
       "       [[ 0.36100988,  1.13778603,  0.90554919, -0.45168154],\n",
       "        [-1.00854868, -0.45705219, -0.32554733, -0.00195127]],\n",
       "\n",
       "       [[-0.56235611, -0.96078661, -0.12188415,  1.16980305],\n",
       "        [ 0.05262139, -0.85352597,  0.92838388, -0.57712614]]])"
      ]
     },
     "execution_count": 50,
     "metadata": {},
     "output_type": "execute_result"
    }
   ],
   "source": [
    "#Randon Vector with \"n\"- give matrix of random value from guassian expression\n",
    "np.random.randn(5, 2, 4)"
   ]
  },
  {
   "cell_type": "code",
   "execution_count": 51,
   "id": "ce4df71d",
   "metadata": {},
   "outputs": [
    {
     "data": {
      "text/plain": [
       "array([ 2,  4,  6,  8, 10, 12, 14, 16, 18, 20, 22, 24, 26, 28, 30, 32, 34,\n",
       "       36, 38, 40])"
      ]
     },
     "execution_count": 51,
     "metadata": {},
     "output_type": "execute_result"
    }
   ],
   "source": [
    "#To write a range with (start, end and step)\n",
    "np.arange(2, 42, 2)"
   ]
  },
  {
   "cell_type": "code",
   "execution_count": 52,
   "id": "6d9021a4",
   "metadata": {},
   "outputs": [
    {
     "data": {
      "text/plain": [
       "(20,)"
      ]
     },
     "execution_count": 52,
     "metadata": {},
     "output_type": "execute_result"
    }
   ],
   "source": [
    "# This helps to know the number of elements in the array\n",
    "np.arange(2, 42, 2).shape"
   ]
  },
  {
   "cell_type": "code",
   "execution_count": 53,
   "id": "33152930",
   "metadata": {},
   "outputs": [
    {
     "data": {
      "text/plain": [
       "array([[[ 2,  4,  6,  8, 10],\n",
       "        [12, 14, 16, 18, 20]],\n",
       "\n",
       "       [[22, 24, 26, 28, 30],\n",
       "        [32, 34, 36, 38, 40]]])"
      ]
     },
     "execution_count": 53,
     "metadata": {},
     "output_type": "execute_result"
    }
   ],
   "source": [
    "#This helps you shape your document into matrix form\n",
    "np.arange(2, 42, 2).reshape(2, 2, 5)"
   ]
  },
  {
   "cell_type": "code",
   "execution_count": 54,
   "id": "f11629fb",
   "metadata": {},
   "outputs": [
    {
     "data": {
      "text/plain": [
       "array([ 2.,  4.,  6.,  8., 10., 12., 14., 16., 18., 20.])"
      ]
     },
     "execution_count": 54,
     "metadata": {},
     "output_type": "execute_result"
    }
   ],
   "source": [
    "#This helps you split your range of numbers into your desired number of list - range (start, end, list NO)\n",
    "np.linspace(2, 20, 10)"
   ]
  },
  {
   "cell_type": "code",
   "execution_count": null,
   "id": "8de7068e",
   "metadata": {},
   "outputs": [],
   "source": []
  }
 ],
 "metadata": {
  "kernelspec": {
   "display_name": "Python 3 (ipykernel)",
   "language": "python",
   "name": "python3"
  },
  "language_info": {
   "codemirror_mode": {
    "name": "ipython",
    "version": 3
   },
   "file_extension": ".py",
   "mimetype": "text/x-python",
   "name": "python",
   "nbconvert_exporter": "python",
   "pygments_lexer": "ipython3",
   "version": "3.9.12"
  }
 },
 "nbformat": 4,
 "nbformat_minor": 5
}
